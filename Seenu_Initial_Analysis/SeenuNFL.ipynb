{
 "cells": [
  {
   "cell_type": "code",
   "execution_count": 10,
   "metadata": {},
   "outputs": [
    {
     "name": "stderr",
     "output_type": "stream",
     "text": [
      "Using TensorFlow backend.\n"
     ]
    }
   ],
   "source": [
    "import pandas as pd\n",
    "import numpy as np\n",
    "import seaborn as sns\n",
    "import matplotlib.pyplot as plt\n",
    "import math\n",
    "import keras\n",
    "import sys\n",
    "\n",
    "from keras.models import Sequential\n",
    "from keras.layers import Dense\n",
    "from keras.optimizers import Adam\n",
    "from keras.utils.np_utils import to_categorical\n",
    "\n",
    "%matplotlib inline\n",
    "np.set_printoptions(threshold=sys.maxsize)"
   ]
  },
  {
   "cell_type": "code",
   "execution_count": 11,
   "metadata": {},
   "outputs": [
    {
     "name": "stdout",
     "output_type": "stream",
     "text": [
      "(4945, 25)\n"
     ]
    }
   ],
   "source": [
    "# import data from CSV file\n",
    "raw_data = pd.read_csv('NFLCombineData.csv')\n",
    "print(raw_data.shape)"
   ]
  },
  {
   "cell_type": "code",
   "execution_count": 12,
   "metadata": {},
   "outputs": [
    {
     "name": "stdout",
     "output_type": "stream",
     "text": [
      "Number of Players' Data Missing for --> \b fortyyd : 191\n"
     ]
    }
   ],
   "source": [
    "# quick test, to see how many values are missing for a specific parameter\n",
    "parameter = 'fortyyd'\n",
    "raw_data_no_outlier = raw_data.loc[raw_data[parameter] > 0]\n",
    "print(\"Number of Players' Data Missing for -->\", \"\\b\", parameter, \":\", raw_data.shape[0]-raw_data_no_outlier.shape[0])"
   ]
  },
  {
   "cell_type": "code",
   "execution_count": 14,
   "metadata": {},
   "outputs": [],
   "source": [
    "# combining positions based on related characterisitcs into groupings (6 classes)\n",
    "    # 0: Running Backs: RB, FB\n",
    "    # 1: Pass Catchers: WR, TE\n",
    "    # 2: Defensive Backs: FS, SS, CB\n",
    "    # 3: Lineman: OT, OG, OC, C, NT, DT, DE, LS \n",
    "    # 4: Linebackers: ILB, OLB\n",
    "    # 5: Quarterback + Special Team: QB, P, K\n",
    "    \n",
    "# create dictionary of metrics corresponding to index in data\n",
    "pos_dict = {'year': 0, 'name': 1, 'firstname': 2, 'lastname': 3, 'position': 4, 'heightfeet': 5, \n",
    "            'heightinches': 6, 'heightinchestotal': 7, 'weight': 8, 'arms': 9, 'hands': 10,\n",
    "            'fortyyd': 11, 'twentyyd': 12, 'tenyd': 13, 'twentyss': 14, 'threecone': 15, \n",
    "            'vertical': 16, 'broad': 17, 'bench': 18, 'round': 19, 'college': 20, \n",
    "            'pickround': 21, 'picktotal': 22, 'wonderlic': 23, 'nflgrade': 24}\n",
    "\n",
    "# extract all players (stored by position) from raw_data\n",
    "rb = (raw_data.loc[raw_data['position'] == 'RB']).to_numpy()\n",
    "fb = (raw_data.loc[raw_data['position'] == 'FB']).to_numpy()\n",
    "wr = (raw_data.loc[raw_data['position'] == 'WR']).to_numpy()\n",
    "te = (raw_data.loc[raw_data['position'] == 'TE']).to_numpy()\n",
    "fs = (raw_data.loc[raw_data['position'] == 'FS']).to_numpy()\n",
    "ss = (raw_data.loc[raw_data['position'] == 'SS']).to_numpy()\n",
    "cb = (raw_data.loc[raw_data['position'] == 'CB']).to_numpy()\n",
    "ot = (raw_data.loc[raw_data['position'] == 'OT']).to_numpy()\n",
    "og = (raw_data.loc[raw_data['position'] == 'OG']).to_numpy()\n",
    "oc = (raw_data.loc[raw_data['position'] == 'OC']).to_numpy()\n",
    "c = (raw_data.loc[raw_data['position'] == 'C']).to_numpy()\n",
    "nt = (raw_data.loc[raw_data['position'] == 'NT']).to_numpy()\n",
    "dt = (raw_data.loc[raw_data['position'] == 'DT']).to_numpy()\n",
    "de = (raw_data.loc[raw_data['position'] == 'DE']).to_numpy()\n",
    "ls = (raw_data.loc[raw_data['position'] == 'LS']).to_numpy()\n",
    "ilb = (raw_data.loc[raw_data['position'] == 'ILB']).to_numpy()\n",
    "olb = (raw_data.loc[raw_data['position'] == 'OLB']).to_numpy()\n",
    "qb = (raw_data.loc[raw_data['position'] == 'QB']).to_numpy()\n",
    "p = (raw_data.loc[raw_data['position'] == 'P']).to_numpy()\n",
    "k = (raw_data.loc[raw_data['position'] == 'K']).to_numpy()\n",
    "\n",
    "# concatenate similar positions based on the classification of groups (detailed above)\n",
    "run_back = np.concatenate((rb, fb))\n",
    "pass_catch = np.concatenate((wr, te))\n",
    "defense_back = np.concatenate((fs, ss, cb))\n",
    "linemen = np.concatenate((ot, og, oc, c, nt, dt, de, ls))\n",
    "lineback = np.concatenate((ilb, olb))\n",
    "quarterback_special = np.concatenate((qb, p, k))"
   ]
  },
  {
   "cell_type": "code",
   "execution_count": 15,
   "metadata": {},
   "outputs": [
    {
     "name": "stdout",
     "output_type": "stream",
     "text": [
      "Number of Players: 4945\n",
      "Number of Metrics: 5\n",
      "Number of Labels: 4945\n"
     ]
    }
   ],
   "source": [
    "# initialize arrays to store data\n",
    "data_players = []\n",
    "pos_index = []\n",
    "\n",
    "#####################################################################################\n",
    "\n",
    "# *** MODIFY HERE, WHICH PARAMETERS TO EXTRACT AND TRAIN ON ***\n",
    "parameters = ['weight', 'heightinchestotal', 'broad', 'fortyyd', 'bench']\n",
    "\n",
    "#####################################################################################\n",
    "\n",
    "# 0: Running Backs: RB, FB\n",
    "for i in range(len(run_back)):\n",
    "    rowArr = []\n",
    "    for j in range(len(parameters)):\n",
    "        rowArr.append(run_back[i][pos_dict.get(parameters[j])])\n",
    "    data_players.append(np.array(rowArr))\n",
    "    pos_index.append(0)\n",
    "    \n",
    "# 1: Pass Catchers: WR, TE\n",
    "for i in range(len(pass_catch)):\n",
    "    rowArr = []\n",
    "    for j in range(len(parameters)):\n",
    "        rowArr.append(pass_catch[i][pos_dict.get(parameters[j])])\n",
    "    data_players.append(np.array(rowArr))\n",
    "    pos_index.append(1)\n",
    "    \n",
    "# 2: Defensive Backs: FS, SS, CB\n",
    "for i in range(len(defense_back)):\n",
    "    rowArr = []\n",
    "    for j in range(len(parameters)):\n",
    "        rowArr.append(defense_back[i][pos_dict.get(parameters[j])])\n",
    "    data_players.append(np.array(rowArr))\n",
    "    pos_index.append(2)\n",
    "    \n",
    "# 3: Lineman: OT, OG, OC, C, NT, DT, DE, LS \n",
    "for i in range(len(linemen)):\n",
    "    rowArr = []\n",
    "    for j in range(len(parameters)):\n",
    "        rowArr.append(linemen[i][pos_dict.get(parameters[j])])\n",
    "    data_players.append(np.array(rowArr))\n",
    "    pos_index.append(3)\n",
    "    \n",
    "# 4: Linebackers: ILB, OLB\n",
    "for i in range(len(lineback)):\n",
    "    rowArr = []\n",
    "    for j in range(len(parameters)):\n",
    "        rowArr.append(lineback[i][pos_dict.get(parameters[j])])\n",
    "    data_players.append(np.array(rowArr))\n",
    "    pos_index.append(4)\n",
    "    \n",
    "# 5: Quarterback + Special Team: QB, P, K\n",
    "for i in range(len(quarterback_special)):\n",
    "    rowArr = []\n",
    "    for j in range(len(parameters)):\n",
    "        rowArr.append(quarterback_special[i][pos_dict.get(parameters[j])])\n",
    "    data_players.append(np.array(rowArr))\n",
    "    pos_index.append(5)\n",
    "    \n",
    "# convert from list to array\n",
    "data_players = np.array(data_players)\n",
    "\n",
    "# one-hot encode outputs for classifcation\n",
    "pos_index = np.array(pos_index)\n",
    "pos_cat = to_categorical(pos_index, 6)\n",
    "\n",
    "# if these output values don't match the commented values, then you probably broke something above\n",
    "print(\"Number of Players:\", len(data_players)) # --> should be 4945, meaning all players' data pulled\n",
    "print(\"Number of Metrics:\", len(data_players[0])) # --> should be (number of parameters), meaning all metrics pulled\n",
    "print(\"Number of Labels:\", len(pos_index)) # --> should be 4945, meaning all players' groupings labeled\n",
    "\n",
    "# ALL GOOD SO FAR"
   ]
  },
  {
   "cell_type": "code",
   "execution_count": 24,
   "metadata": {},
   "outputs": [],
   "source": [
    "#model = Sequential()\n",
    "#model.add(Dense(units=6, input_shape=(len(parameters),), activation='softmax')) # 3 output units, because 3 classes\n",
    "model = keras.Sequential(\n",
    "    [\n",
    "        layers.Dense(2, activation=\"relu\", name=\"layer1\"),\n",
    "        layers.Dense(3, activation=\"relu\", name=\"layer2\"),\n",
    "        layers.Dense(4, name=\"layer3\"),\n",
    "    ]\n",
    ")\n",
    "model.compile(Adam(lr=0.001), loss='categorical_crossentropy', metrics=['accuracy'])"
   ]
  },
  {
   "cell_type": "code",
   "execution_count": 25,
   "metadata": {},
   "outputs": [
    {
     "name": "stdout",
     "output_type": "stream",
     "text": [
      "Train on 3956 samples, validate on 989 samples\n",
      "Epoch 1/100\n",
      "3956/3956 [==============================] - 0s 38us/step - loss: 42.5143 - accuracy: 0.2745 - val_loss: 126.2051 - val_accuracy: 0.0607\n",
      "Epoch 2/100\n",
      "3956/3956 [==============================] - 0s 21us/step - loss: 6.4825 - accuracy: 0.3845 - val_loss: 123.2116 - val_accuracy: 0.0586\n",
      "Epoch 3/100\n",
      "3956/3956 [==============================] - 0s 24us/step - loss: 2.2723 - accuracy: 0.4790 - val_loss: 122.2186 - val_accuracy: 0.0506\n",
      "Epoch 4/100\n",
      "3956/3956 [==============================] - 0s 20us/step - loss: 1.4233 - accuracy: 0.5892 - val_loss: 121.8038 - val_accuracy: 0.0485\n",
      "Epoch 5/100\n",
      "3956/3956 [==============================] - 0s 21us/step - loss: 1.1427 - accuracy: 0.5998 - val_loss: 121.8795 - val_accuracy: 0.0607\n",
      "Epoch 6/100\n",
      "3956/3956 [==============================] - 0s 21us/step - loss: 0.9466 - accuracy: 0.6067 - val_loss: 122.0039 - val_accuracy: 0.0546\n",
      "Epoch 7/100\n",
      "3956/3956 [==============================] - 0s 21us/step - loss: 0.8229 - accuracy: 0.6365 - val_loss: 122.2439 - val_accuracy: 0.0475\n",
      "Epoch 8/100\n",
      "3956/3956 [==============================] - 0s 21us/step - loss: 0.8854 - accuracy: 0.6335 - val_loss: 122.3817 - val_accuracy: 0.0768\n",
      "Epoch 9/100\n",
      "3956/3956 [==============================] - 0s 21us/step - loss: 0.8250 - accuracy: 0.6426 - val_loss: 122.1271 - val_accuracy: 0.0607\n",
      "Epoch 10/100\n",
      "3956/3956 [==============================] - 0s 21us/step - loss: 0.8093 - accuracy: 0.6453 - val_loss: 122.0393 - val_accuracy: 0.0708\n",
      "Epoch 11/100\n",
      "3956/3956 [==============================] - 0s 21us/step - loss: 0.7814 - accuracy: 0.6486 - val_loss: 122.2958 - val_accuracy: 0.0465\n",
      "Epoch 12/100\n",
      "3956/3956 [==============================] - 0s 21us/step - loss: 0.7359 - accuracy: 0.6648 - val_loss: 122.2433 - val_accuracy: 0.0607\n",
      "Epoch 13/100\n",
      "3956/3956 [==============================] - 0s 21us/step - loss: 0.7624 - accuracy: 0.6577 - val_loss: 122.2901 - val_accuracy: 0.0516\n",
      "Epoch 14/100\n",
      "3956/3956 [==============================] - 0s 22us/step - loss: 0.7657 - accuracy: 0.6623 - val_loss: 122.2012 - val_accuracy: 0.0718\n",
      "Epoch 15/100\n",
      "3956/3956 [==============================] - 0s 21us/step - loss: 0.7848 - accuracy: 0.6507 - val_loss: 122.3929 - val_accuracy: 0.0576\n",
      "Epoch 16/100\n",
      "3956/3956 [==============================] - 0s 21us/step - loss: 0.8638 - accuracy: 0.6423 - val_loss: 122.2207 - val_accuracy: 0.0758\n",
      "Epoch 17/100\n",
      "3956/3956 [==============================] - 0s 21us/step - loss: 0.7970 - accuracy: 0.6451 - val_loss: 122.6643 - val_accuracy: 0.0637\n",
      "Epoch 18/100\n",
      "3956/3956 [==============================] - 0s 21us/step - loss: 0.7796 - accuracy: 0.6628 - val_loss: 122.3300 - val_accuracy: 0.0566\n",
      "Epoch 19/100\n",
      "3956/3956 [==============================] - 0s 21us/step - loss: 0.7626 - accuracy: 0.6663 - val_loss: 122.6844 - val_accuracy: 0.0748\n",
      "Epoch 20/100\n",
      "3956/3956 [==============================] - 0s 20us/step - loss: 0.8371 - accuracy: 0.6522 - val_loss: 122.3997 - val_accuracy: 0.0627\n",
      "Epoch 21/100\n",
      "3956/3956 [==============================] - 0s 21us/step - loss: 0.7851 - accuracy: 0.6615 - val_loss: 122.4853 - val_accuracy: 0.0718\n",
      "Epoch 22/100\n",
      "3956/3956 [==============================] - 0s 22us/step - loss: 0.7335 - accuracy: 0.6598 - val_loss: 122.2093 - val_accuracy: 0.0688\n",
      "Epoch 23/100\n",
      "3956/3956 [==============================] - 0s 21us/step - loss: 0.8949 - accuracy: 0.6408 - val_loss: 122.2984 - val_accuracy: 0.0617\n",
      "Epoch 24/100\n",
      "3956/3956 [==============================] - 0s 22us/step - loss: 0.8269 - accuracy: 0.6514 - val_loss: 123.2773 - val_accuracy: 0.0212\n",
      "Epoch 25/100\n",
      "3956/3956 [==============================] - 0s 21us/step - loss: 0.8988 - accuracy: 0.6413 - val_loss: 122.9341 - val_accuracy: 0.0273\n",
      "Epoch 26/100\n",
      "3956/3956 [==============================] - 0s 21us/step - loss: 0.7724 - accuracy: 0.6653 - val_loss: 122.9182 - val_accuracy: 0.0576\n",
      "Epoch 27/100\n",
      "3956/3956 [==============================] - 0s 22us/step - loss: 0.8027 - accuracy: 0.6618 - val_loss: 122.8113 - val_accuracy: 0.0475\n",
      "Epoch 28/100\n",
      "3956/3956 [==============================] - 0s 22us/step - loss: 0.8109 - accuracy: 0.6539 - val_loss: 122.3038 - val_accuracy: 0.0677\n",
      "Epoch 29/100\n",
      "3956/3956 [==============================] - 0s 22us/step - loss: 0.8057 - accuracy: 0.6618 - val_loss: 123.1076 - val_accuracy: 0.0233\n",
      "Epoch 30/100\n",
      "3956/3956 [==============================] - 0s 21us/step - loss: 0.9000 - accuracy: 0.6433 - val_loss: 122.1588 - val_accuracy: 0.0647\n",
      "Epoch 31/100\n",
      "3956/3956 [==============================] - 0s 22us/step - loss: 0.7717 - accuracy: 0.6694 - val_loss: 122.6356 - val_accuracy: 0.0748\n",
      "Epoch 32/100\n",
      "3956/3956 [==============================] - 0s 21us/step - loss: 0.8148 - accuracy: 0.6663 - val_loss: 122.7445 - val_accuracy: 0.0475\n",
      "Epoch 33/100\n",
      "3956/3956 [==============================] - 0s 21us/step - loss: 0.7986 - accuracy: 0.6620 - val_loss: 122.4538 - val_accuracy: 0.0647\n",
      "Epoch 34/100\n",
      "3956/3956 [==============================] - 0s 23us/step - loss: 0.8102 - accuracy: 0.6567 - val_loss: 122.5859 - val_accuracy: 0.0455\n",
      "Epoch 35/100\n",
      "3956/3956 [==============================] - 0s 22us/step - loss: 0.8140 - accuracy: 0.6502 - val_loss: 122.5393 - val_accuracy: 0.0364\n",
      "Epoch 36/100\n",
      "3956/3956 [==============================] - 0s 21us/step - loss: 0.7840 - accuracy: 0.6684 - val_loss: 122.8384 - val_accuracy: 0.0445\n",
      "Epoch 37/100\n",
      "3956/3956 [==============================] - 0s 20us/step - loss: 0.7260 - accuracy: 0.6795 - val_loss: 122.3302 - val_accuracy: 0.0597\n",
      "Epoch 38/100\n",
      "3956/3956 [==============================] - 0s 23us/step - loss: 0.8424 - accuracy: 0.6451 - val_loss: 122.7276 - val_accuracy: 0.0485\n",
      "Epoch 39/100\n",
      "3956/3956 [==============================] - 0s 20us/step - loss: 0.7853 - accuracy: 0.6618 - val_loss: 123.4540 - val_accuracy: 0.0445\n",
      "Epoch 40/100\n",
      "3956/3956 [==============================] - 0s 21us/step - loss: 0.9144 - accuracy: 0.6446 - val_loss: 123.1745 - val_accuracy: 0.0536\n",
      "Epoch 41/100\n",
      "3956/3956 [==============================] - 0s 21us/step - loss: 0.7757 - accuracy: 0.6635 - val_loss: 122.7253 - val_accuracy: 0.0415\n",
      "Epoch 42/100\n",
      "3956/3956 [==============================] - 0s 21us/step - loss: 0.8859 - accuracy: 0.6486 - val_loss: 123.0413 - val_accuracy: 0.0455\n",
      "Epoch 43/100\n",
      "3956/3956 [==============================] - 0s 22us/step - loss: 0.8052 - accuracy: 0.6671 - val_loss: 123.4141 - val_accuracy: 0.0384\n",
      "Epoch 44/100\n",
      "3956/3956 [==============================] - 0s 21us/step - loss: 0.7994 - accuracy: 0.6658 - val_loss: 122.6395 - val_accuracy: 0.0576\n",
      "Epoch 45/100\n",
      "3956/3956 [==============================] - 0s 22us/step - loss: 0.7570 - accuracy: 0.6729 - val_loss: 122.5304 - val_accuracy: 0.0688\n",
      "Epoch 46/100\n",
      "3956/3956 [==============================] - 0s 21us/step - loss: 0.7918 - accuracy: 0.6658 - val_loss: 122.4592 - val_accuracy: 0.0556\n",
      "Epoch 47/100\n",
      "3956/3956 [==============================] - 0s 21us/step - loss: 0.7998 - accuracy: 0.6646 - val_loss: 122.9665 - val_accuracy: 0.0384\n",
      "Epoch 48/100\n",
      "3956/3956 [==============================] - 0s 21us/step - loss: 0.7555 - accuracy: 0.6625 - val_loss: 122.4949 - val_accuracy: 0.0516\n",
      "Epoch 49/100\n",
      "3956/3956 [==============================] - 0s 21us/step - loss: 0.7785 - accuracy: 0.6618 - val_loss: 122.9235 - val_accuracy: 0.0758\n",
      "Epoch 50/100\n",
      "3956/3956 [==============================] - 0s 20us/step - loss: 0.8336 - accuracy: 0.6699 - val_loss: 122.8659 - val_accuracy: 0.0465\n",
      "Epoch 51/100\n",
      "3956/3956 [==============================] - 0s 20us/step - loss: 0.7700 - accuracy: 0.6716 - val_loss: 123.0182 - val_accuracy: 0.0718\n",
      "Epoch 52/100\n",
      "3956/3956 [==============================] - 0s 21us/step - loss: 0.7744 - accuracy: 0.6782 - val_loss: 123.5452 - val_accuracy: 0.0516\n",
      "Epoch 53/100\n",
      "3956/3956 [==============================] - 0s 20us/step - loss: 0.8086 - accuracy: 0.6618 - val_loss: 123.7199 - val_accuracy: 0.0324\n",
      "Epoch 54/100\n",
      "3956/3956 [==============================] - 0s 20us/step - loss: 0.8300 - accuracy: 0.6646 - val_loss: 122.5875 - val_accuracy: 0.0597\n",
      "Epoch 55/100\n",
      "3956/3956 [==============================] - 0s 21us/step - loss: 0.8257 - accuracy: 0.6451 - val_loss: 123.0389 - val_accuracy: 0.0607\n"
     ]
    },
    {
     "name": "stdout",
     "output_type": "stream",
     "text": [
      "Epoch 56/100\n",
      "3956/3956 [==============================] - 0s 20us/step - loss: 0.8426 - accuracy: 0.6562 - val_loss: 122.4677 - val_accuracy: 0.0728\n",
      "Epoch 57/100\n",
      "3956/3956 [==============================] - 0s 20us/step - loss: 0.7635 - accuracy: 0.6620 - val_loss: 122.8180 - val_accuracy: 0.0566\n",
      "Epoch 58/100\n",
      "3956/3956 [==============================] - 0s 19us/step - loss: 0.8463 - accuracy: 0.6544 - val_loss: 123.1706 - val_accuracy: 0.0303\n",
      "Epoch 59/100\n",
      "3956/3956 [==============================] - 0s 20us/step - loss: 0.7613 - accuracy: 0.6812 - val_loss: 122.6546 - val_accuracy: 0.0546\n",
      "Epoch 60/100\n",
      "3956/3956 [==============================] - 0s 19us/step - loss: 0.7495 - accuracy: 0.6699 - val_loss: 122.8901 - val_accuracy: 0.0445\n",
      "Epoch 61/100\n",
      "3956/3956 [==============================] - 0s 20us/step - loss: 0.7955 - accuracy: 0.6605 - val_loss: 123.0626 - val_accuracy: 0.0718\n",
      "Epoch 62/100\n",
      "3956/3956 [==============================] - 0s 19us/step - loss: 0.7509 - accuracy: 0.6764 - val_loss: 122.6226 - val_accuracy: 0.0617\n",
      "Epoch 63/100\n",
      "3956/3956 [==============================] - 0s 20us/step - loss: 0.8050 - accuracy: 0.6630 - val_loss: 122.9888 - val_accuracy: 0.0313\n",
      "Epoch 64/100\n",
      "3956/3956 [==============================] - 0s 20us/step - loss: 0.8234 - accuracy: 0.6534 - val_loss: 122.9352 - val_accuracy: 0.0576\n",
      "Epoch 65/100\n",
      "3956/3956 [==============================] - 0s 20us/step - loss: 0.7639 - accuracy: 0.6732 - val_loss: 122.7519 - val_accuracy: 0.0516\n",
      "Epoch 66/100\n",
      "3956/3956 [==============================] - 0s 20us/step - loss: 0.8287 - accuracy: 0.6638 - val_loss: 123.2435 - val_accuracy: 0.0708\n",
      "Epoch 67/100\n",
      "3956/3956 [==============================] - 0s 20us/step - loss: 0.7715 - accuracy: 0.6600 - val_loss: 122.8560 - val_accuracy: 0.0718\n",
      "Epoch 68/100\n",
      "3956/3956 [==============================] - 0s 20us/step - loss: 0.8208 - accuracy: 0.6633 - val_loss: 122.7226 - val_accuracy: 0.0576\n",
      "Epoch 69/100\n",
      "3956/3956 [==============================] - 0s 20us/step - loss: 0.8779 - accuracy: 0.6567 - val_loss: 122.9138 - val_accuracy: 0.0586\n",
      "Epoch 70/100\n",
      "3956/3956 [==============================] - 0s 21us/step - loss: 0.8062 - accuracy: 0.6509 - val_loss: 122.8189 - val_accuracy: 0.0495\n",
      "Epoch 71/100\n",
      "3956/3956 [==============================] - 0s 21us/step - loss: 0.8113 - accuracy: 0.6630 - val_loss: 122.7261 - val_accuracy: 0.0516\n",
      "Epoch 72/100\n",
      "3956/3956 [==============================] - 0s 19us/step - loss: 0.8053 - accuracy: 0.6694 - val_loss: 122.8388 - val_accuracy: 0.0597\n",
      "Epoch 73/100\n",
      "3956/3956 [==============================] - 0s 20us/step - loss: 0.7898 - accuracy: 0.6734 - val_loss: 123.5406 - val_accuracy: 0.0667\n",
      "Epoch 74/100\n",
      "3956/3956 [==============================] - 0s 20us/step - loss: 0.8400 - accuracy: 0.6479 - val_loss: 122.9944 - val_accuracy: 0.0506\n",
      "Epoch 75/100\n",
      "3956/3956 [==============================] - 0s 23us/step - loss: 0.8323 - accuracy: 0.6641 - val_loss: 123.1991 - val_accuracy: 0.0718\n",
      "Epoch 76/100\n",
      "3956/3956 [==============================] - 0s 21us/step - loss: 0.7650 - accuracy: 0.6704 - val_loss: 122.9199 - val_accuracy: 0.0506\n",
      "Epoch 77/100\n",
      "3956/3956 [==============================] - 0s 21us/step - loss: 0.8134 - accuracy: 0.6651 - val_loss: 122.9866 - val_accuracy: 0.0546\n",
      "Epoch 78/100\n",
      "3956/3956 [==============================] - 0s 21us/step - loss: 0.8023 - accuracy: 0.6648 - val_loss: 123.0949 - val_accuracy: 0.0688\n",
      "Epoch 79/100\n",
      "3956/3956 [==============================] - 0s 21us/step - loss: 0.7582 - accuracy: 0.6689 - val_loss: 122.8798 - val_accuracy: 0.0718\n",
      "Epoch 80/100\n",
      "3956/3956 [==============================] - 0s 21us/step - loss: 0.7281 - accuracy: 0.6769 - val_loss: 123.4262 - val_accuracy: 0.0445\n",
      "Epoch 81/100\n",
      "3956/3956 [==============================] - 0s 21us/step - loss: 0.7586 - accuracy: 0.6663 - val_loss: 122.8196 - val_accuracy: 0.0597\n",
      "Epoch 82/100\n",
      "3956/3956 [==============================] - 0s 21us/step - loss: 0.8056 - accuracy: 0.6625 - val_loss: 122.9035 - val_accuracy: 0.0597\n",
      "Epoch 83/100\n",
      "3956/3956 [==============================] - 0s 22us/step - loss: 0.7303 - accuracy: 0.6820 - val_loss: 122.8242 - val_accuracy: 0.0566\n",
      "Epoch 84/100\n",
      "3956/3956 [==============================] - 0s 21us/step - loss: 0.8382 - accuracy: 0.6577 - val_loss: 123.2825 - val_accuracy: 0.0344\n",
      "Epoch 85/100\n",
      "3956/3956 [==============================] - 0s 23us/step - loss: 0.7938 - accuracy: 0.6706 - val_loss: 123.0312 - val_accuracy: 0.0556\n",
      "Epoch 86/100\n",
      "3956/3956 [==============================] - 0s 22us/step - loss: 0.7550 - accuracy: 0.6780 - val_loss: 122.8901 - val_accuracy: 0.0556\n",
      "Epoch 87/100\n",
      "3956/3956 [==============================] - 0s 21us/step - loss: 0.7469 - accuracy: 0.6764 - val_loss: 123.2847 - val_accuracy: 0.0465\n",
      "Epoch 88/100\n",
      "3956/3956 [==============================] - 0s 22us/step - loss: 0.8223 - accuracy: 0.6610 - val_loss: 123.2566 - val_accuracy: 0.0728\n",
      "Epoch 89/100\n",
      "3956/3956 [==============================] - 0s 20us/step - loss: 0.7651 - accuracy: 0.6749 - val_loss: 123.3366 - val_accuracy: 0.0738\n",
      "Epoch 90/100\n",
      "3956/3956 [==============================] - 0s 21us/step - loss: 0.7951 - accuracy: 0.6868 - val_loss: 123.5260 - val_accuracy: 0.0253\n",
      "Epoch 91/100\n",
      "3956/3956 [==============================] - 0s 21us/step - loss: 0.7878 - accuracy: 0.6575 - val_loss: 123.5855 - val_accuracy: 0.0546\n",
      "Epoch 92/100\n",
      "3956/3956 [==============================] - 0s 21us/step - loss: 0.7982 - accuracy: 0.6691 - val_loss: 123.2339 - val_accuracy: 0.0576\n",
      "Epoch 93/100\n",
      "3956/3956 [==============================] - 0s 21us/step - loss: 0.8021 - accuracy: 0.6582 - val_loss: 123.3414 - val_accuracy: 0.0516\n",
      "Epoch 94/100\n",
      "3956/3956 [==============================] - 0s 21us/step - loss: 0.8006 - accuracy: 0.6582 - val_loss: 123.5666 - val_accuracy: 0.0677\n",
      "Epoch 95/100\n",
      "3956/3956 [==============================] - 0s 21us/step - loss: 0.7941 - accuracy: 0.6648 - val_loss: 123.3933 - val_accuracy: 0.0586\n",
      "Epoch 96/100\n",
      "3956/3956 [==============================] - 0s 21us/step - loss: 0.7848 - accuracy: 0.6719 - val_loss: 123.6982 - val_accuracy: 0.0455\n",
      "Epoch 97/100\n",
      "3956/3956 [==============================] - 0s 22us/step - loss: 0.8251 - accuracy: 0.6635 - val_loss: 123.3838 - val_accuracy: 0.0485\n",
      "Epoch 98/100\n",
      "3956/3956 [==============================] - 0s 23us/step - loss: 0.7526 - accuracy: 0.6866 - val_loss: 123.4784 - val_accuracy: 0.0637\n",
      "Epoch 99/100\n",
      "3956/3956 [==============================] - 0s 21us/step - loss: 0.7350 - accuracy: 0.6898 - val_loss: 123.3640 - val_accuracy: 0.0637\n",
      "Epoch 100/100\n",
      "3956/3956 [==============================] - 0s 21us/step - loss: 0.8105 - accuracy: 0.6557 - val_loss: 123.2628 - val_accuracy: 0.0475\n"
     ]
    }
   ],
   "source": [
    "h = model.fit(x=data_players, y=pos_cat, validation_split = 0.2, verbose=1, epochs=100, shuffle=True)"
   ]
  },
  {
   "cell_type": "code",
   "execution_count": 22,
   "metadata": {},
   "outputs": [
    {
     "data": {
      "text/plain": [
       "Text(0.5, 1.0, 'accuracy')"
      ]
     },
     "execution_count": 22,
     "metadata": {},
     "output_type": "execute_result"
    },
    {
     "data": {
      "image/png": "[encoded data removed]",
      "text/plain": [
       "<Figure size 432x288 with 1 Axes>"
      ]
     },
     "metadata": {
      "needs_background": "light"
     },
     "output_type": "display_data"
    }
   ],
   "source": [
    "# display accuracy of model\n",
    "plt.plot(h.history['accuracy'])\n",
    "plt.xlabel('epoch')\n",
    "plt.legend(['accuracy'])\n",
    "plt.title('accuracy')"
   ]
  },
  {
   "cell_type": "code",
   "execution_count": 23,
   "metadata": {},
   "outputs": [
    {
     "data": {
      "text/plain": [
       "Text(0.5, 1.0, 'loss')"
      ]
     },
     "execution_count": 23,
     "metadata": {},
     "output_type": "execute_result"
    },
    {
     "data": {
      "image/png": "[encoded data removed]",
      "text/plain": [
       "<Figure size 432x288 with 1 Axes>"
      ]
     },
     "metadata": {
      "needs_background": "light"
     },
     "output_type": "display_data"
    }
   ],
   "source": [
    "# display loss of model\n",
    "plt.plot(h.history['loss'])\n",
    "plt.xlabel('epoch')\n",
    "plt.legend(['loss'])\n",
    "plt.title('loss')"
   ]
  },
  {
   "cell_type": "code",
   "execution_count": null,
   "metadata": {},
   "outputs": [],
   "source": [
    "# individually test for predictions on single point/group of points\n",
    "point = np.array(data_players)\n",
    "prediction = model.predict_classes(point)\n",
    "print(\"Predicted Classes:\", prediction)\n",
    "print(\"Actual Classes:\", pos_index)"
   ]
  },
  {
   "cell_type": "code",
   "execution_count": 2,
   "metadata": {},
   "outputs": [
    {
     "ename": "NameError",
     "evalue": "name 'ls_data' is not defined",
     "output_type": "error",
     "traceback": [
      "\u001b[0;31m---------------------------------------------------------------------------\u001b[0m",
      "\u001b[0;31mNameError\u001b[0m                                 Traceback (most recent call last)",
      "\u001b[0;32m<ipython-input-2-79101c8cab9b>\u001b[0m in \u001b[0;36m<module>\u001b[0;34m\u001b[0m\n\u001b[0;32m----> 1\u001b[0;31m \u001b[0msns\u001b[0m\u001b[0;34m.\u001b[0m\u001b[0mheatmap\u001b[0m\u001b[0;34m(\u001b[0m\u001b[0mls_data\u001b[0m\u001b[0;34m.\u001b[0m\u001b[0mcorr\u001b[0m\u001b[0;34m(\u001b[0m\u001b[0;34m)\u001b[0m\u001b[0;34m)\u001b[0m\u001b[0;34m\u001b[0m\u001b[0;34m\u001b[0m\u001b[0m\n\u001b[0m\u001b[1;32m      2\u001b[0m \u001b[0mls_var\u001b[0m \u001b[0;34m=\u001b[0m \u001b[0;34m{\u001b[0m\u001b[0;34m}\u001b[0m\u001b[0;34m\u001b[0m\u001b[0;34m\u001b[0m\u001b[0m\n\u001b[1;32m      3\u001b[0m \u001b[0;32mfor\u001b[0m \u001b[0mcol\u001b[0m \u001b[0;32min\u001b[0m \u001b[0mls_data\u001b[0m\u001b[0;34m:\u001b[0m\u001b[0;34m\u001b[0m\u001b[0;34m\u001b[0m\u001b[0m\n\u001b[1;32m      4\u001b[0m     \u001b[0;32mif\u001b[0m \u001b[0;34m(\u001b[0m\u001b[0mls_data\u001b[0m\u001b[0;34m.\u001b[0m\u001b[0mvar\u001b[0m\u001b[0;34m(\u001b[0m\u001b[0;34m)\u001b[0m\u001b[0;34m.\u001b[0m\u001b[0mget\u001b[0m\u001b[0;34m(\u001b[0m\u001b[0mcol\u001b[0m\u001b[0;34m)\u001b[0m \u001b[0;34m!=\u001b[0m \u001b[0;32mNone\u001b[0m\u001b[0;34m)\u001b[0m\u001b[0;34m:\u001b[0m\u001b[0;34m\u001b[0m\u001b[0;34m\u001b[0m\u001b[0m\n\u001b[1;32m      5\u001b[0m         \u001b[0mls_var\u001b[0m\u001b[0;34m[\u001b[0m\u001b[0mcol\u001b[0m\u001b[0;34m]\u001b[0m \u001b[0;34m=\u001b[0m \u001b[0;34m(\u001b[0m\u001b[0mls_data\u001b[0m\u001b[0;34m.\u001b[0m\u001b[0mvar\u001b[0m\u001b[0;34m(\u001b[0m\u001b[0;34m)\u001b[0m\u001b[0;34m.\u001b[0m\u001b[0mget\u001b[0m\u001b[0;34m(\u001b[0m\u001b[0mcol\u001b[0m\u001b[0;34m)\u001b[0m\u001b[0;34m)\u001b[0m\u001b[0;34m\u001b[0m\u001b[0;34m\u001b[0m\u001b[0m\n",
      "\u001b[0;31mNameError\u001b[0m: name 'ls_data' is not defined"
     ]
    }
   ],
   "source": []
  },
  {
   "cell_type": "code",
   "execution_count": 3,
   "metadata": {},
   "outputs": [
    {
     "ename": "NameError",
     "evalue": "name 'oc_data' is not defined",
     "output_type": "error",
     "traceback": [
      "\u001b[0;31m---------------------------------------------------------------------------\u001b[0m",
      "\u001b[0;31mNameError\u001b[0m                                 Traceback (most recent call last)",
      "\u001b[0;32m<ipython-input-3-05a2709179d6>\u001b[0m in \u001b[0;36m<module>\u001b[0;34m\u001b[0m\n\u001b[0;32m----> 1\u001b[0;31m \u001b[0msns\u001b[0m\u001b[0;34m.\u001b[0m\u001b[0mheatmap\u001b[0m\u001b[0;34m(\u001b[0m\u001b[0moc_data\u001b[0m\u001b[0;34m.\u001b[0m\u001b[0mcorr\u001b[0m\u001b[0;34m(\u001b[0m\u001b[0;34m)\u001b[0m\u001b[0;34m)\u001b[0m\u001b[0;34m\u001b[0m\u001b[0;34m\u001b[0m\u001b[0m\n\u001b[0m\u001b[1;32m      2\u001b[0m \u001b[0moc_var\u001b[0m \u001b[0;34m=\u001b[0m \u001b[0;34m{\u001b[0m\u001b[0;34m}\u001b[0m\u001b[0;34m\u001b[0m\u001b[0;34m\u001b[0m\u001b[0m\n\u001b[1;32m      3\u001b[0m \u001b[0;32mfor\u001b[0m \u001b[0mcol\u001b[0m \u001b[0;32min\u001b[0m \u001b[0moc_data\u001b[0m\u001b[0;34m:\u001b[0m\u001b[0;34m\u001b[0m\u001b[0;34m\u001b[0m\u001b[0m\n\u001b[1;32m      4\u001b[0m     \u001b[0;32mif\u001b[0m \u001b[0;34m(\u001b[0m\u001b[0moc_data\u001b[0m\u001b[0;34m.\u001b[0m\u001b[0mvar\u001b[0m\u001b[0;34m(\u001b[0m\u001b[0;34m)\u001b[0m\u001b[0;34m.\u001b[0m\u001b[0mget\u001b[0m\u001b[0;34m(\u001b[0m\u001b[0mcol\u001b[0m\u001b[0;34m)\u001b[0m \u001b[0;34m!=\u001b[0m \u001b[0;32mNone\u001b[0m\u001b[0;34m)\u001b[0m\u001b[0;34m:\u001b[0m\u001b[0;34m\u001b[0m\u001b[0;34m\u001b[0m\u001b[0m\n\u001b[1;32m      5\u001b[0m         \u001b[0moc_var\u001b[0m\u001b[0;34m[\u001b[0m\u001b[0mcol\u001b[0m\u001b[0;34m]\u001b[0m \u001b[0;34m=\u001b[0m \u001b[0;34m(\u001b[0m\u001b[0moc_data\u001b[0m\u001b[0;34m.\u001b[0m\u001b[0mvar\u001b[0m\u001b[0;34m(\u001b[0m\u001b[0;34m)\u001b[0m\u001b[0;34m.\u001b[0m\u001b[0mget\u001b[0m\u001b[0;34m(\u001b[0m\u001b[0mcol\u001b[0m\u001b[0;34m)\u001b[0m\u001b[0;34m)\u001b[0m\u001b[0;34m\u001b[0m\u001b[0;34m\u001b[0m\u001b[0m\n",
      "\u001b[0;31mNameError\u001b[0m: name 'oc_data' is not defined"
     ]
    }
   ],
   "source": []
  },
  {
   "cell_type": "code",
   "execution_count": 4,
   "metadata": {},
   "outputs": [
    {
     "ename": "NameError",
     "evalue": "name 'nt_data' is not defined",
     "output_type": "error",
     "traceback": [
      "\u001b[0;31m---------------------------------------------------------------------------\u001b[0m",
      "\u001b[0;31mNameError\u001b[0m                                 Traceback (most recent call last)",
      "\u001b[0;32m<ipython-input-4-510fb3b4752a>\u001b[0m in \u001b[0;36m<module>\u001b[0;34m\u001b[0m\n\u001b[0;32m----> 1\u001b[0;31m \u001b[0mnt_data\u001b[0m\u001b[0;34m\u001b[0m\u001b[0;34m\u001b[0m\u001b[0m\n\u001b[0m",
      "\u001b[0;31mNameError\u001b[0m: name 'nt_data' is not defined"
     ]
    }
   ],
   "source": []
  },
  {
   "cell_type": "code",
   "execution_count": null,
   "metadata": {},
   "outputs": [],
   "source": []
  },
  {
   "cell_type": "code",
   "execution_count": null,
   "metadata": {},
   "outputs": [],
   "source": []
  },
  {
   "cell_type": "code",
   "execution_count": null,
   "metadata": {},
   "outputs": [],
   "source": []
  }
 ],
 "metadata": {
  "kernelspec": {
   "display_name": "Python 3",
   "language": "python",
   "name": "python3"
  },
  "language_info": {
   "codemirror_mode": {
    "name": "ipython",
    "version": 3
   },
   "file_extension": ".py",
   "mimetype": "text/x-python",
   "name": "python",
   "nbconvert_exporter": "python",
   "pygments_lexer": "ipython3",
   "version": "3.8.2"
  }
 },
 "nbformat": 4,
 "nbformat_minor": 4
}
