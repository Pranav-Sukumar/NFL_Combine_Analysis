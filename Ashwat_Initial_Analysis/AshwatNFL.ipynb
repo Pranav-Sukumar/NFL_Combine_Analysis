{
 "cells": [
  {
   "cell_type": "code",
   "execution_count": 17,
   "metadata": {},
   "outputs": [],
   "source": [
    "# initializing notebook - ashwat"
   ]
  },
  {
   "cell_type": "code",
   "execution_count": 18,
   "metadata": {},
   "outputs": [],
   "source": [
    "import pandas as pd\n",
    "import numpy as np\n",
    "import seaborn as sns\n",
    "import matplotlib.pyplot as plt\n",
    "import math\n",
    "import keras\n",
    "\n",
    "from keras.models import Sequential\n",
    "from keras.layers import Dense\n",
    "from keras.optimizers import Adam\n",
    "from keras.utils.np_utils import to_categorical\n",
    "\n",
    "%matplotlib inline"
   ]
  },
  {
   "cell_type": "code",
   "execution_count": 57,
   "metadata": {},
   "outputs": [
    {
     "name": "stdout",
     "output_type": "stream",
     "text": [
      "(4945, 25)\n"
     ]
    }
   ],
   "source": [
    "raw_data = pd.read_csv('NFLCombineData.csv')\n",
    "print(raw_data.shape)"
   ]
  },
  {
   "cell_type": "code",
   "execution_count": 59,
   "metadata": {},
   "outputs": [
    {
     "name": "stdout",
     "output_type": "stream",
     "text": [
      "Number of Players' Data Missing: 191\n"
     ]
    }
   ],
   "source": [
    "# quick test, to see how many values are missing for a specific parameter\n",
    "parameter = 'fortyyd'\n",
    "raw_data_no_outlier = raw_data.loc[raw_data[parameter] > 0]\n",
    "print(\"Number of Players' Data Missing:\", raw_data.shape[0] - raw_data_no_outlier.shape[0])"
   ]
  },
  {
   "cell_type": "code",
   "execution_count": 42,
   "metadata": {},
   "outputs": [],
   "source": [
    "# combining positions based on related characterisitcs into groupings (6 classes)\n",
    "    # 0: Running Backs: RB, FB\n",
    "    # 1: Pass Catchers: WR, TE\n",
    "    # 2: Defensive Backs: FS, SS, CB\n",
    "    # 3: Lineman: OT, OG, OC, C, NT, DT, DE, LS \n",
    "    # 4: Linebackers: ILB, OLB\n",
    "    # 5: Quarterback + Special Team: QB, P, K\n",
    "\n",
    "raw_data['position'].unique()\n",
    "\n",
    "rb = (raw_data.loc[raw_data['position'] == 'RB']).to_numpy()\n",
    "fb = (raw_data.loc[raw_data['position'] == 'FB']).to_numpy()\n",
    "wr = (raw_data.loc[raw_data['position'] == 'WR']).to_numpy()\n",
    "te = (raw_data.loc[raw_data['position'] == 'TE']).to_numpy()\n",
    "fs = (raw_data.loc[raw_data['position'] == 'FS']).to_numpy()\n",
    "ss = (raw_data.loc[raw_data['position'] == 'SS']).to_numpy()\n",
    "cb = (raw_data.loc[raw_data['position'] == 'CB']).to_numpy()\n",
    "ot = (raw_data.loc[raw_data['position'] == 'OT']).to_numpy()\n",
    "og = (raw_data.loc[raw_data['position'] == 'OG']).to_numpy()\n",
    "oc = (raw_data.loc[raw_data['position'] == 'OC']).to_numpy()\n",
    "c = (raw_data.loc[raw_data['position'] == 'C']).to_numpy()\n",
    "nt = (raw_data.loc[raw_data['position'] == 'NT']).to_numpy()\n",
    "dt = (raw_data.loc[raw_data['position'] == 'DT']).to_numpy()\n",
    "de = (raw_data.loc[raw_data['position'] == 'DE']).to_numpy()\n",
    "ls = (raw_data.loc[raw_data['position'] == 'LS']).to_numpy()\n",
    "ilb = (raw_data.loc[raw_data['position'] == 'ILB']).to_numpy()\n",
    "olb = (raw_data.loc[raw_data['position'] == 'OLB']).to_numpy()\n",
    "qb = (raw_data.loc[raw_data['position'] == 'QB']).to_numpy()\n",
    "p = (raw_data.loc[raw_data['position'] == 'P']).to_numpy()\n",
    "k = (raw_data.loc[raw_data['position'] == 'K']).to_numpy()\n",
    "\n",
    "run_back = np.concatenate((rb, fb))\n",
    "pass_catch = np.concatenate((wr, te))\n",
    "defense_back = np.concatenate((fs, ss, cb))\n",
    "linemen = np.concatenate((ot, og, oc, c, nt, dt, de, ls))\n",
    "lineback = np.concatenate((ilb, olb))\n",
    "quarterback_special = np.concatenate((qb, p, k))"
   ]
  },
  {
   "cell_type": "code",
   "execution_count": null,
   "metadata": {},
   "outputs": [],
   "source": [
    "# # initialize arrays to store data\n",
    "# dataPlayers = []\n",
    "# pos_index = []\n",
    "\n",
    "# # input below, which parameters to extract and train on\n",
    "# parameters = ['weight', 'heightinchestotal', 'broad', 'fortyyd']\n",
    "\n",
    "# cb_weight = cb_data['weight'].to_numpy()\n",
    "# cb_height = cb_data['heightinchestotal'].to_numpy()\n",
    "# cb_broad = cb_data['broad'].to_numpy()\n",
    "# cb_forty = cb_data['fortyyd'].to_numpy()\n",
    "# cb_bench = cb_data['bench'].to_numpy()\n",
    "\n",
    "# nt_weight = nt_data['weight'].to_numpy()\n",
    "# nt_height = nt_data['heightinchestotal'].to_numpy()\n",
    "# nt_broad = nt_data['broad'].to_numpy()\n",
    "# nt_forty = nt_data['fortyyd'].to_numpy()\n",
    "# nt_bench = nt_data['bench'].to_numpy()\n",
    "\n",
    "# for i in range(len(cb_data)):\n",
    "#     dataPlayers.append([cb_weight[i], cb_height[i], cb_broad[i], cb_forty[i], cb_bench[i]])\n",
    "#     pos_index.append(0)\n",
    "# for i in range(len(nt_data)):\n",
    "#     dataPlayers.append([nt_weight[i], nt_height[i], nt_broad[i], nt_forty[i], nt_bench[i]])\n",
    "#     pos_index.append(1)\n",
    "    \n",
    "# pos_index = np.array(pos_index)\n",
    "# pos_cat = to_categorical(pos_index, 2)\n",
    "\n",
    "# dataPlayers = np.array(dataPlayers)\n",
    "\n",
    "# # print(dataQB)\n",
    "# # print(pos_index)\n",
    "# # print(qb_data['weight'])\n",
    "# # print(qb_data['heightinchestotal'])\n",
    "# # print(qb_data['broad'])\n",
    "\n",
    "# print(dataPlayers)\n",
    "\n",
    "# # print(dataPlayers[0])\n",
    "\n",
    "# print(pos_cat.shape)\n",
    "# print(dataPlayers.shape)\n"
   ]
  },
  {
   "cell_type": "code",
   "execution_count": 150,
   "metadata": {},
   "outputs": [],
   "source": [
    "### IGNORE BELOW THIS POINT, FOR NOW"
   ]
  },
  {
   "cell_type": "code",
   "execution_count": 8,
   "metadata": {},
   "outputs": [],
   "source": [
    "# my positions: QB P K FS SS\n",
    "qb_data = raw_data.loc[raw_data['position'] == 'QB'] # 304 entries\n",
    "p_data = raw_data.loc[raw_data['position'] == 'P'] # 12 entries\n",
    "k_data = raw_data.loc[raw_data['position'] == 'K'] # 9 entries\n",
    "fs_data = raw_data.loc[raw_data['position'] == 'FS'] # 211 entries\n",
    "ss_data = raw_data.loc[raw_data['position'] == 'SS'] # 184 entries\n",
    "\n",
    "\n",
    "\n",
    "# # good metric, consistent data for all positions\n",
    "# sns.violinplot(x=qb_data[\"heightinchestotal\"])\n",
    "# sns.violinplot(x=fs_data[\"heightinchestotal\"])\n",
    "# sns.violinplot(x=ss_data[\"heightinchestotal\"])\n",
    "\n",
    "# # poor metric, large amount of absent data\n",
    "# sns.violinplot(x=qb_data[\"threecone\"])\n",
    "# sns.violinplot(x=fs_data[\"threecone\"])\n",
    "# sns.violinplot(x=ss_data[\"threecone\"])\n",
    "\n",
    "# # fairly good metric, somewhat consistent data for all positions (few null)\n",
    "# sns.violinplot(x=qb_data[\"broad\"])\n",
    "# sns.violinplot(x=fs_data[\"broad\"])\n",
    "# sns.violinplot(x=ss_data[\"broad\"])\n",
    "\n",
    "# # bad metric, no data for QB players\n",
    "# sns.violinplot(x=qb_data[\"bench\"])\n",
    "# sns.violinplot(x=fs_data[\"bench\"])\n",
    "# sns.violinplot(x=ss_data[\"bench\"])\n",
    "\n",
    "# # potentially good metric, consistent data for all positions (but might not have correlation)\n",
    "# sns.violinplot(x=qb_data[\"weight\"])\n",
    "# sns.violinplot(x=fs_data[\"weight\"])\n",
    "# sns.violinplot(x=ss_data[\"weight\"])\n",
    "\n",
    "\n",
    "\n",
    "raw_data_no_outlier = raw_data.loc[raw_data['vertical'] > 0]\n",
    "raw_data_no_outlier = raw_data.loc[raw_data['threecone'] > 0]\n",
    "raw_data_no_outlier = raw_data.loc[raw_data['broad'] > 0]\n",
    "raw_data_no_outlier = raw_data.loc[raw_data['bench'] > 0]\n",
    "raw_data_no_outlier = raw_data.loc[raw_data['round'] > 0]"
   ]
  },
  {
   "cell_type": "code",
   "execution_count": 160,
   "metadata": {},
   "outputs": [
    {
     "name": "stdout",
     "output_type": "stream",
     "text": [
      "[0, 1, 2]\n",
      "[[1. 0. 0.]\n",
      " [0. 1. 0.]\n",
      " [0. 0. 1.]]\n"
     ]
    }
   ],
   "source": [
    "# positions = list(raw_data['position'].unique())\n",
    "\n",
    "# positions.remove('P')\n",
    "# positions.remove('K')\n",
    "\n",
    "positions = list(['QB', 'FS', 'SS'])\n",
    "\n",
    "pos_index = []\n"
   ]
  },
  {
   "cell_type": "code",
   "execution_count": 9,
   "metadata": {},
   "outputs": [],
   "source": [
    "qb_data = raw_data.loc[raw_data['position'] == 'QB']\n",
    "fs_data = raw_data.loc[raw_data['position'] == 'FS']\n",
    "ss_data = raw_data.loc[raw_data['position'] == 'SS']"
   ]
  },
  {
   "cell_type": "code",
   "execution_count": 10,
   "metadata": {},
   "outputs": [
    {
     "name": "stdout",
     "output_type": "stream",
     "text": [
      "(699, 3)\n",
      "(699, 3)\n"
     ]
    }
   ],
   "source": [
    "# X = raw_data\n",
    "dataPlayers = []\n",
    "pos_index = []\n",
    "\n",
    "# print(type(qb_data))\n",
    "\n",
    "parameters = ['weight', 'heightinchestotal', 'broad']\n",
    "\n",
    "qb_weight = qb_data['weight'].to_numpy()\n",
    "qb_height = qb_data['heightinchestotal'].to_numpy()\n",
    "qb_broad = qb_data['broad'].to_numpy()\n",
    "\n",
    "fs_weight = fs_data['weight'].to_numpy()\n",
    "fs_height = fs_data['heightinchestotal'].to_numpy()\n",
    "fs_broad = fs_data['broad'].to_numpy()\n",
    "\n",
    "ss_weight = ss_data['weight'].to_numpy()\n",
    "ss_height = ss_data['heightinchestotal'].to_numpy()\n",
    "ss_broad = ss_data['broad'].to_numpy()\n",
    "\n",
    "for i in range(len(qb_data)):\n",
    "    dataPlayers.append([qb_weight[i], qb_height[i], qb_broad[i]])\n",
    "    pos_index.append(0)\n",
    "for i in range(len(fs_data)):\n",
    "    dataPlayers.append([fs_weight[i], fs_height[i], fs_broad[i]])\n",
    "    pos_index.append(1)\n",
    "for i in range(len(ss_data)):\n",
    "    dataPlayers.append([ss_weight[i], ss_height[i], ss_broad[i]])\n",
    "    pos_index.append(2)\n",
    "    \n",
    "pos_index = np.array(pos_index)\n",
    "pos_cat = to_categorical(pos_index, 3)\n",
    "\n",
    "dataPlayers = np.array(dataPlayers)\n",
    "\n",
    "# print(dataQB)\n",
    "# print(pos_index)\n",
    "# print(qb_data['weight'])\n",
    "# print(qb_data['heightinchestotal'])\n",
    "# print(qb_data['broad'])\n",
    "\n",
    "# print(dataPlayers[0])\n",
    "\n",
    "print(pos_cat.shape)\n",
    "print(dataPlayers.shape)\n"
   ]
  },
  {
   "cell_type": "code",
   "execution_count": 11,
   "metadata": {},
   "outputs": [],
   "source": [
    "model = Sequential()\n",
    "model.add(Dense(units=3, input_shape=(3,), activation='softmax')) # 3 output units, because 3 classes\n",
    "model.compile(Adam(lr=0.01), loss='categorical_crossentropy', metrics=['accuracy'])"
   ]
  },
  {
   "cell_type": "code",
   "execution_count": 12,
   "metadata": {
    "jupyter": {
     "outputs_hidden": true
    }
   },
   "outputs": [
    {
     "name": "stdout",
     "output_type": "stream",
     "text": [
      "Epoch 1/100\n",
      "699/699 [==============================] - 0s 98us/step - loss: 41.0251 - accuracy: 0.4192\n",
      "Epoch 2/100\n",
      "699/699 [==============================] - 0s 14us/step - loss: 16.7734 - accuracy: 0.3219\n",
      "Epoch 3/100\n",
      "699/699 [==============================] - 0s 19us/step - loss: 12.6616 - accuracy: 0.4821\n",
      "Epoch 4/100\n",
      "699/699 [==============================] - 0s 20us/step - loss: 10.9936 - accuracy: 0.4206\n",
      "Epoch 5/100\n",
      "699/699 [==============================] - 0s 21us/step - loss: 9.5481 - accuracy: 0.4635\n",
      "Epoch 6/100\n",
      "699/699 [==============================] - 0s 23us/step - loss: 8.2519 - accuracy: 0.4349\n",
      "Epoch 7/100\n",
      "699/699 [==============================] - 0s 22us/step - loss: 7.6828 - accuracy: 0.4263\n",
      "Epoch 8/100\n",
      "699/699 [==============================] - 0s 22us/step - loss: 7.4379 - accuracy: 0.4335\n",
      "Epoch 9/100\n",
      "699/699 [==============================] - 0s 20us/step - loss: 7.2397 - accuracy: 0.4449\n",
      "Epoch 10/100\n",
      "699/699 [==============================] - 0s 24us/step - loss: 6.8459 - accuracy: 0.4592\n",
      "Epoch 11/100\n",
      "699/699 [==============================] - 0s 21us/step - loss: 6.6522 - accuracy: 0.4421\n",
      "Epoch 12/100\n",
      "699/699 [==============================] - 0s 23us/step - loss: 6.2783 - accuracy: 0.4363\n",
      "Epoch 13/100\n",
      "699/699 [==============================] - 0s 24us/step - loss: 6.0124 - accuracy: 0.4263\n",
      "Epoch 14/100\n",
      "699/699 [==============================] - 0s 24us/step - loss: 5.7933 - accuracy: 0.4635\n",
      "Epoch 15/100\n",
      "699/699 [==============================] - 0s 23us/step - loss: 5.4212 - accuracy: 0.4592\n",
      "Epoch 16/100\n",
      "699/699 [==============================] - 0s 20us/step - loss: 5.1313 - accuracy: 0.4506\n",
      "Epoch 17/100\n",
      "699/699 [==============================] - 0s 22us/step - loss: 4.7821 - accuracy: 0.4120\n",
      "Epoch 18/100\n",
      "699/699 [==============================] - 0s 23us/step - loss: 4.5055 - accuracy: 0.4106\n",
      "Epoch 19/100\n",
      "699/699 [==============================] - 0s 24us/step - loss: 4.2237 - accuracy: 0.4335\n",
      "Epoch 20/100\n",
      "699/699 [==============================] - 0s 22us/step - loss: 3.8596 - accuracy: 0.4235\n",
      "Epoch 21/100\n",
      "699/699 [==============================] - 0s 19us/step - loss: 3.6611 - accuracy: 0.4020\n",
      "Epoch 22/100\n",
      "699/699 [==============================] - 0s 23us/step - loss: 3.3925 - accuracy: 0.4120\n",
      "Epoch 23/100\n",
      "699/699 [==============================] - 0s 21us/step - loss: 3.0161 - accuracy: 0.4435\n",
      "Epoch 24/100\n",
      "699/699 [==============================] - 0s 20us/step - loss: 2.8061 - accuracy: 0.3863\n",
      "Epoch 25/100\n",
      "699/699 [==============================] - 0s 29us/step - loss: 2.5390 - accuracy: 0.3734\n",
      "Epoch 26/100\n",
      "699/699 [==============================] - 0s 22us/step - loss: 2.4590 - accuracy: 0.3577\n",
      "Epoch 27/100\n",
      "699/699 [==============================] - 0s 24us/step - loss: 2.2593 - accuracy: 0.3548\n",
      "Epoch 28/100\n",
      "699/699 [==============================] - 0s 26us/step - loss: 2.0784 - accuracy: 0.3162\n",
      "Epoch 29/100\n",
      "699/699 [==============================] - 0s 24us/step - loss: 1.9196 - accuracy: 0.3033\n",
      "Epoch 30/100\n",
      "699/699 [==============================] - 0s 23us/step - loss: 1.8826 - accuracy: 0.2575\n",
      "Epoch 31/100\n",
      "699/699 [==============================] - 0s 28us/step - loss: 1.7952 - accuracy: 0.2804\n",
      "Epoch 32/100\n",
      "699/699 [==============================] - 0s 26us/step - loss: 1.8476 - accuracy: 0.3333\n",
      "Epoch 33/100\n",
      "699/699 [==============================] - 0s 24us/step - loss: 1.7638 - accuracy: 0.2947\n",
      "Epoch 34/100\n",
      "699/699 [==============================] - 0s 26us/step - loss: 1.7627 - accuracy: 0.2918\n",
      "Epoch 35/100\n",
      "699/699 [==============================] - 0s 25us/step - loss: 1.7447 - accuracy: 0.2990\n",
      "Epoch 36/100\n",
      "699/699 [==============================] - 0s 26us/step - loss: 1.6026 - accuracy: 0.2918\n",
      "Epoch 37/100\n",
      "699/699 [==============================] - 0s 30us/step - loss: 1.5993 - accuracy: 0.3004\n",
      "Epoch 38/100\n",
      "699/699 [==============================] - 0s 24us/step - loss: 1.5697 - accuracy: 0.3147\n",
      "Epoch 39/100\n",
      "699/699 [==============================] - 0s 26us/step - loss: 1.5876 - accuracy: 0.2947\n",
      "Epoch 40/100\n",
      "699/699 [==============================] - 0s 27us/step - loss: 1.6272 - accuracy: 0.3219\n",
      "Epoch 41/100\n",
      "699/699 [==============================] - 0s 28us/step - loss: 1.5895 - accuracy: 0.3076\n",
      "Epoch 42/100\n",
      "699/699 [==============================] - 0s 24us/step - loss: 1.4839 - accuracy: 0.3233\n",
      "Epoch 43/100\n",
      "699/699 [==============================] - 0s 24us/step - loss: 1.4964 - accuracy: 0.3147\n",
      "Epoch 44/100\n",
      "699/699 [==============================] - 0s 24us/step - loss: 1.4681 - accuracy: 0.3634\n",
      "Epoch 45/100\n",
      "699/699 [==============================] - 0s 26us/step - loss: 1.4691 - accuracy: 0.3605\n",
      "Epoch 46/100\n",
      "699/699 [==============================] - 0s 21us/step - loss: 1.5624 - accuracy: 0.3176\n",
      "Epoch 47/100\n",
      "699/699 [==============================] - 0s 27us/step - loss: 1.5492 - accuracy: 0.3348\n",
      "Epoch 48/100\n",
      "699/699 [==============================] - 0s 26us/step - loss: 1.3813 - accuracy: 0.3519\n",
      "Epoch 49/100\n",
      "699/699 [==============================] - 0s 25us/step - loss: 1.3185 - accuracy: 0.3648\n",
      "Epoch 50/100\n",
      "699/699 [==============================] - 0s 28us/step - loss: 1.3639 - accuracy: 0.3519\n",
      "Epoch 51/100\n",
      "699/699 [==============================] - 0s 27us/step - loss: 1.3514 - accuracy: 0.3634\n",
      "Epoch 52/100\n",
      "699/699 [==============================] - 0s 28us/step - loss: 1.2901 - accuracy: 0.3577\n",
      "Epoch 53/100\n",
      "699/699 [==============================] - 0s 23us/step - loss: 1.3028 - accuracy: 0.3577\n",
      "Epoch 54/100\n",
      "699/699 [==============================] - 0s 27us/step - loss: 1.3440 - accuracy: 0.3505\n",
      "Epoch 55/100\n",
      "699/699 [==============================] - 0s 21us/step - loss: 1.3805 - accuracy: 0.3763\n",
      "Epoch 56/100\n",
      "699/699 [==============================] - 0s 26us/step - loss: 1.4104 - accuracy: 0.4049\n",
      "Epoch 57/100\n",
      "699/699 [==============================] - 0s 21us/step - loss: 1.3118 - accuracy: 0.3805\n",
      "Epoch 58/100\n",
      "699/699 [==============================] - 0s 22us/step - loss: 1.2337 - accuracy: 0.3648\n",
      "Epoch 59/100\n",
      "699/699 [==============================] - 0s 23us/step - loss: 1.1697 - accuracy: 0.4049\n",
      "Epoch 60/100\n",
      "699/699 [==============================] - 0s 22us/step - loss: 1.2386 - accuracy: 0.3934\n",
      "Epoch 61/100\n",
      "699/699 [==============================] - 0s 19us/step - loss: 1.2012 - accuracy: 0.3948\n",
      "Epoch 62/100\n",
      "699/699 [==============================] - 0s 25us/step - loss: 1.2173 - accuracy: 0.3677\n",
      "Epoch 63/100\n",
      "699/699 [==============================] - 0s 17us/step - loss: 1.2114 - accuracy: 0.4177\n",
      "Epoch 64/100\n",
      "699/699 [==============================] - 0s 25us/step - loss: 1.2523 - accuracy: 0.3648\n",
      "Epoch 65/100\n",
      "699/699 [==============================] - 0s 20us/step - loss: 1.1378 - accuracy: 0.4120\n",
      "Epoch 66/100\n",
      "699/699 [==============================] - 0s 25us/step - loss: 1.1080 - accuracy: 0.4406\n",
      "Epoch 67/100\n",
      "699/699 [==============================] - 0s 22us/step - loss: 1.2230 - accuracy: 0.3877\n",
      "Epoch 68/100\n",
      "699/699 [==============================] - 0s 24us/step - loss: 1.1610 - accuracy: 0.4406\n",
      "Epoch 69/100\n",
      "699/699 [==============================] - 0s 19us/step - loss: 1.1311 - accuracy: 0.4220\n",
      "Epoch 70/100\n",
      "699/699 [==============================] - 0s 23us/step - loss: 1.1679 - accuracy: 0.3834\n",
      "Epoch 71/100\n",
      "699/699 [==============================] - 0s 18us/step - loss: 1.2824 - accuracy: 0.4020\n",
      "Epoch 72/100\n",
      "699/699 [==============================] - 0s 19us/step - loss: 1.1298 - accuracy: 0.4664\n",
      "Epoch 73/100\n",
      "699/699 [==============================] - 0s 19us/step - loss: 1.1344 - accuracy: 0.4421\n",
      "Epoch 74/100\n",
      "699/699 [==============================] - 0s 23us/step - loss: 1.1175 - accuracy: 0.4392\n",
      "Epoch 75/100\n",
      "699/699 [==============================] - 0s 19us/step - loss: 1.0659 - accuracy: 0.4750\n",
      "Epoch 76/100\n",
      "699/699 [==============================] - 0s 19us/step - loss: 1.0706 - accuracy: 0.4549\n",
      "Epoch 77/100\n",
      "699/699 [==============================] - 0s 18us/step - loss: 1.0773 - accuracy: 0.4363\n",
      "Epoch 78/100\n",
      "699/699 [==============================] - 0s 21us/step - loss: 1.1865 - accuracy: 0.4278\n",
      "Epoch 79/100\n",
      "699/699 [==============================] - 0s 19us/step - loss: 1.1420 - accuracy: 0.4049\n",
      "Epoch 80/100\n"
     ]
    },
    {
     "name": "stdout",
     "output_type": "stream",
     "text": [
      "699/699 [==============================] - 0s 19us/step - loss: 1.1107 - accuracy: 0.4306\n",
      "Epoch 81/100\n",
      "699/699 [==============================] - 0s 19us/step - loss: 1.3284 - accuracy: 0.4263\n",
      "Epoch 82/100\n",
      "699/699 [==============================] - 0s 19us/step - loss: 1.2060 - accuracy: 0.4235\n",
      "Epoch 83/100\n",
      "699/699 [==============================] - 0s 21us/step - loss: 1.1677 - accuracy: 0.4063\n",
      "Epoch 84/100\n",
      "699/699 [==============================] - 0s 16us/step - loss: 1.0696 - accuracy: 0.4335\n",
      "Epoch 85/100\n",
      "699/699 [==============================] - 0s 21us/step - loss: 1.0415 - accuracy: 0.4778\n",
      "Epoch 86/100\n",
      "699/699 [==============================] - 0s 19us/step - loss: 1.1033 - accuracy: 0.4363\n",
      "Epoch 87/100\n",
      "699/699 [==============================] - 0s 17us/step - loss: 1.0753 - accuracy: 0.4506\n",
      "Epoch 88/100\n",
      "699/699 [==============================] - 0s 19us/step - loss: 1.0092 - accuracy: 0.4921\n",
      "Epoch 89/100\n",
      "699/699 [==============================] - 0s 16us/step - loss: 1.0065 - accuracy: 0.5036\n",
      "Epoch 90/100\n",
      "699/699 [==============================] - 0s 17us/step - loss: 1.0431 - accuracy: 0.5079\n",
      "Epoch 91/100\n",
      "699/699 [==============================] - 0s 21us/step - loss: 1.1052 - accuracy: 0.4378\n",
      "Epoch 92/100\n",
      "699/699 [==============================] - 0s 21us/step - loss: 1.0248 - accuracy: 0.5007\n",
      "Epoch 93/100\n",
      "699/699 [==============================] - 0s 21us/step - loss: 1.1030 - accuracy: 0.4506\n",
      "Epoch 94/100\n",
      "699/699 [==============================] - 0s 21us/step - loss: 1.2411 - accuracy: 0.4192\n",
      "Epoch 95/100\n",
      "699/699 [==============================] - 0s 19us/step - loss: 1.1255 - accuracy: 0.4678\n",
      "Epoch 96/100\n",
      "699/699 [==============================] - 0s 20us/step - loss: 1.1002 - accuracy: 0.4635\n",
      "Epoch 97/100\n",
      "699/699 [==============================] - 0s 20us/step - loss: 1.0177 - accuracy: 0.4950\n",
      "Epoch 98/100\n",
      "699/699 [==============================] - 0s 17us/step - loss: 1.0525 - accuracy: 0.4750\n",
      "Epoch 99/100\n",
      "699/699 [==============================] - 0s 20us/step - loss: 1.0322 - accuracy: 0.4578\n",
      "Epoch 100/100\n",
      "699/699 [==============================] - 0s 20us/step - loss: 1.0112 - accuracy: 0.5265\n"
     ]
    }
   ],
   "source": [
    "h = model.fit(x=dataPlayers, y=pos_cat, batch_size=50, verbose=1, epochs=100)"
   ]
  },
  {
   "cell_type": "code",
   "execution_count": 13,
   "metadata": {},
   "outputs": [
    {
     "data": {
      "text/plain": [
       "Text(0.5, 1.0, 'accuracy')"
      ]
     },
     "execution_count": 13,
     "metadata": {},
     "output_type": "execute_result"
    },
    {
     "data": {
      "image/png": "[encoded data removed]",
      "text/plain": [
       "<Figure size 432x288 with 1 Axes>"
      ]
     },
     "metadata": {
      "needs_background": "light"
     },
     "output_type": "display_data"
    }
   ],
   "source": [
    "plt.plot(h.history['accuracy'])\n",
    "plt.xlabel('epoch')\n",
    "plt.legend(['accuracy'])\n",
    "plt.title('accuracy')"
   ]
  },
  {
   "cell_type": "code",
   "execution_count": 320,
   "metadata": {},
   "outputs": [
    {
     "data": {
      "text/plain": [
       "Text(0.5, 1.0, 'loss')"
      ]
     },
     "execution_count": 320,
     "metadata": {},
     "output_type": "execute_result"
    },
    {
     "data": {
      "image/png": "[encoded data removed]",
      "text/plain": [
       "<Figure size 432x288 with 1 Axes>"
      ]
     },
     "metadata": {
      "needs_background": "light"
     },
     "output_type": "display_data"
    }
   ],
   "source": [
    "plt.plot(h.history['loss'])\n",
    "plt.xlabel('epoch')\n",
    "plt.legend(['loss'])\n",
    "plt.title('loss')"
   ]
  },
  {
   "cell_type": "code",
   "execution_count": 347,
   "metadata": {},
   "outputs": [
    {
     "name": "stdout",
     "output_type": "stream",
     "text": [
      "Predicted Class: [0]\n"
     ]
    }
   ],
   "source": [
    "point = np.array([dataPlayers[0]])\n",
    "\n",
    "prediction = model.predict_classes(point)\n",
    "print(\"Predicted Class:\", prediction)"
   ]
  },
  {
   "cell_type": "code",
   "execution_count": null,
   "metadata": {},
   "outputs": [],
   "source": []
  },
  {
   "cell_type": "code",
   "execution_count": null,
   "metadata": {},
   "outputs": [],
   "source": []
  },
  {
   "cell_type": "code",
   "execution_count": null,
   "metadata": {},
   "outputs": [],
   "source": [
    "# height, weight, forty yard, bench, broad\n",
    "# CB, NT"
   ]
  },
  {
   "cell_type": "code",
   "execution_count": 84,
   "metadata": {},
   "outputs": [],
   "source": [
    "cb_data = raw_data.loc[raw_data['position'] == 'ILB']\n",
    "nt_data = raw_data.loc[raw_data['position'] == 'WR']"
   ]
  },
  {
   "cell_type": "code",
   "execution_count": 85,
   "metadata": {},
   "outputs": [
    {
     "name": "stdout",
     "output_type": "stream",
     "text": [
      "[[243.    75.   122.     4.56  23.  ]\n",
      " [235.    72.   109.     4.93  21.  ]\n",
      " [254.    72.     0.     0.     0.  ]\n",
      " ...\n",
      " [212.    74.   113.     4.57   0.  ]\n",
      " [207.    75.   117.     4.45   0.  ]\n",
      " [164.    68.   112.     4.47   0.  ]]\n",
      "(856, 2)\n",
      "(856, 5)\n"
     ]
    }
   ],
   "source": [
    "# X = raw_data\n",
    "dataPlayers = []\n",
    "pos_index = []\n",
    "\n",
    "# print(type(qb_data))\n",
    "\n",
    "parameters = ['weight', 'heightinchestotal', 'broad', 'fortyyd', 'bench']\n",
    "\n",
    "cb_weight = cb_data['weight'].to_numpy()\n",
    "cb_height = cb_data['heightinchestotal'].to_numpy()\n",
    "cb_broad = cb_data['broad'].to_numpy()\n",
    "cb_forty = cb_data['fortyyd'].to_numpy()\n",
    "cb_bench = cb_data['bench'].to_numpy()\n",
    "\n",
    "nt_weight = nt_data['weight'].to_numpy()\n",
    "nt_height = nt_data['heightinchestotal'].to_numpy()\n",
    "nt_broad = nt_data['broad'].to_numpy()\n",
    "nt_forty = nt_data['fortyyd'].to_numpy()\n",
    "nt_bench = nt_data['bench'].to_numpy()\n",
    "\n",
    "for i in range(len(cb_data)):\n",
    "    dataPlayers.append([cb_weight[i], cb_height[i], cb_broad[i], cb_forty[i], cb_bench[i]])\n",
    "    pos_index.append(0)\n",
    "for i in range(len(nt_data)):\n",
    "    dataPlayers.append([nt_weight[i], nt_height[i], nt_broad[i], nt_forty[i], nt_bench[i]])\n",
    "    pos_index.append(1)\n",
    "    \n",
    "pos_index = np.array(pos_index)\n",
    "pos_cat = to_categorical(pos_index, 2)\n",
    "\n",
    "dataPlayers = np.array(dataPlayers)\n",
    "\n",
    "# print(dataQB)\n",
    "# print(pos_index)\n",
    "# print(qb_data['weight'])\n",
    "# print(qb_data['heightinchestotal'])\n",
    "# print(qb_data['broad'])\n",
    "\n",
    "print(dataPlayers)\n",
    "\n",
    "# print(dataPlayers[0])\n",
    "\n",
    "print(pos_cat.shape)\n",
    "print(dataPlayers.shape)\n"
   ]
  },
  {
   "cell_type": "code",
   "execution_count": 86,
   "metadata": {},
   "outputs": [],
   "source": [
    "model = Sequential()\n",
    "model.add(Dense(units=2, input_shape=(5,), activation='softmax'))\n",
    "model.compile(Adam(lr=0.01), loss='categorical_crossentropy', metrics=['accuracy'])"
   ]
  },
  {
   "cell_type": "code",
   "execution_count": 87,
   "metadata": {},
   "outputs": [
    {
     "name": "stdout",
     "output_type": "stream",
     "text": [
      "Train on 684 samples, validate on 172 samples\n",
      "Epoch 1/100\n",
      "684/684 [==============================] - 0s 124us/step - loss: 48.2036 - accuracy: 0.6711 - val_loss: 0.0000e+00 - val_accuracy: 1.0000\n",
      "Epoch 2/100\n",
      "684/684 [==============================] - 0s 23us/step - loss: 16.3688 - accuracy: 0.5482 - val_loss: 3.2382 - val_accuracy: 0.4826\n",
      "Epoch 3/100\n",
      "684/684 [==============================] - 0s 23us/step - loss: 10.7783 - accuracy: 0.5307 - val_loss: 0.0193 - val_accuracy: 0.9942\n",
      "Epoch 4/100\n",
      "684/684 [==============================] - 0s 27us/step - loss: 8.2045 - accuracy: 0.5804 - val_loss: 0.1571 - val_accuracy: 0.9826\n",
      "Epoch 5/100\n",
      "684/684 [==============================] - 0s 26us/step - loss: 7.0421 - accuracy: 0.6082 - val_loss: 0.1681 - val_accuracy: 0.9826\n",
      "Epoch 6/100\n",
      "684/684 [==============================] - 0s 25us/step - loss: 5.9110 - accuracy: 0.6126 - val_loss: 0.0289 - val_accuracy: 0.9884\n",
      "Epoch 7/100\n",
      "684/684 [==============================] - 0s 25us/step - loss: 4.6849 - accuracy: 0.6696 - val_loss: 0.0944 - val_accuracy: 0.9826\n",
      "Epoch 8/100\n",
      "684/684 [==============================] - 0s 25us/step - loss: 3.7177 - accuracy: 0.6959 - val_loss: 0.0443 - val_accuracy: 0.9826\n",
      "Epoch 9/100\n",
      "684/684 [==============================] - 0s 25us/step - loss: 2.7425 - accuracy: 0.7354 - val_loss: 0.0195 - val_accuracy: 0.9884\n",
      "Epoch 10/100\n",
      "684/684 [==============================] - 0s 24us/step - loss: 2.0609 - accuracy: 0.7982 - val_loss: 0.0094 - val_accuracy: 0.9942\n",
      "Epoch 11/100\n",
      "684/684 [==============================] - 0s 25us/step - loss: 1.7118 - accuracy: 0.7880 - val_loss: 0.0186 - val_accuracy: 0.9826\n",
      "Epoch 12/100\n",
      "684/684 [==============================] - 0s 23us/step - loss: 1.4997 - accuracy: 0.8070 - val_loss: 0.0151 - val_accuracy: 0.9826\n",
      "Epoch 13/100\n",
      "684/684 [==============================] - 0s 26us/step - loss: 1.3333 - accuracy: 0.8246 - val_loss: 0.0153 - val_accuracy: 0.9826\n",
      "Epoch 14/100\n",
      "684/684 [==============================] - 0s 24us/step - loss: 1.1857 - accuracy: 0.8216 - val_loss: 0.0017 - val_accuracy: 1.0000\n",
      "Epoch 15/100\n",
      "684/684 [==============================] - 0s 25us/step - loss: 1.0265 - accuracy: 0.8363 - val_loss: 5.4099e-04 - val_accuracy: 1.0000\n",
      "Epoch 16/100\n",
      "684/684 [==============================] - 0s 24us/step - loss: 0.8631 - accuracy: 0.8348 - val_loss: 9.0885e-05 - val_accuracy: 1.0000\n",
      "Epoch 17/100\n",
      "684/684 [==============================] - 0s 25us/step - loss: 0.7249 - accuracy: 0.8450 - val_loss: 1.5763e-04 - val_accuracy: 1.0000\n",
      "Epoch 18/100\n",
      "684/684 [==============================] - 0s 28us/step - loss: 0.5999 - accuracy: 0.8670 - val_loss: 8.5960e-04 - val_accuracy: 1.0000\n",
      "Epoch 19/100\n",
      "684/684 [==============================] - 0s 23us/step - loss: 0.4077 - accuracy: 0.8918 - val_loss: 0.0038 - val_accuracy: 1.0000\n",
      "Epoch 20/100\n",
      "684/684 [==============================] - 0s 28us/step - loss: 0.2817 - accuracy: 0.9123 - val_loss: 0.0053 - val_accuracy: 1.0000\n",
      "Epoch 21/100\n",
      "684/684 [==============================] - 0s 23us/step - loss: 0.2185 - accuracy: 0.9211 - val_loss: 0.0053 - val_accuracy: 1.0000\n",
      "Epoch 22/100\n",
      "684/684 [==============================] - 0s 25us/step - loss: 0.1807 - accuracy: 0.9386 - val_loss: 0.0344 - val_accuracy: 0.9884\n",
      "Epoch 23/100\n",
      "684/684 [==============================] - 0s 23us/step - loss: 0.1306 - accuracy: 0.9576 - val_loss: 0.0309 - val_accuracy: 0.9942\n",
      "Epoch 24/100\n",
      "684/684 [==============================] - 0s 25us/step - loss: 0.1280 - accuracy: 0.9678 - val_loss: 0.0664 - val_accuracy: 0.9826\n",
      "Epoch 25/100\n",
      "684/684 [==============================] - 0s 25us/step - loss: 0.1217 - accuracy: 0.9693 - val_loss: 0.0797 - val_accuracy: 0.9767\n",
      "Epoch 26/100\n",
      "684/684 [==============================] - 0s 25us/step - loss: 0.1271 - accuracy: 0.9664 - val_loss: 0.0311 - val_accuracy: 0.9942\n",
      "Epoch 27/100\n",
      "684/684 [==============================] - 0s 28us/step - loss: 0.1289 - accuracy: 0.9649 - val_loss: 0.0430 - val_accuracy: 0.9826\n",
      "Epoch 28/100\n",
      "684/684 [==============================] - 0s 26us/step - loss: 0.1198 - accuracy: 0.9737 - val_loss: 0.0430 - val_accuracy: 0.9826\n",
      "Epoch 29/100\n",
      "684/684 [==============================] - 0s 25us/step - loss: 0.1240 - accuracy: 0.9620 - val_loss: 0.0350 - val_accuracy: 0.9942\n",
      "Epoch 30/100\n",
      "684/684 [==============================] - 0s 28us/step - loss: 0.1094 - accuracy: 0.9781 - val_loss: 0.0286 - val_accuracy: 0.9942\n",
      "Epoch 31/100\n",
      "684/684 [==============================] - 0s 26us/step - loss: 0.1096 - accuracy: 0.9678 - val_loss: 0.0320 - val_accuracy: 0.9942\n",
      "Epoch 32/100\n",
      "684/684 [==============================] - 0s 23us/step - loss: 0.1121 - accuracy: 0.9678 - val_loss: 0.0344 - val_accuracy: 0.9884\n",
      "Epoch 33/100\n",
      "684/684 [==============================] - 0s 24us/step - loss: 0.1081 - accuracy: 0.9693 - val_loss: 0.0248 - val_accuracy: 0.9942\n",
      "Epoch 34/100\n",
      "684/684 [==============================] - 0s 22us/step - loss: 0.1141 - accuracy: 0.9708 - val_loss: 0.0655 - val_accuracy: 0.9767\n",
      "Epoch 35/100\n",
      "684/684 [==============================] - 0s 22us/step - loss: 0.1033 - accuracy: 0.9708 - val_loss: 0.0218 - val_accuracy: 0.9942\n",
      "Epoch 36/100\n",
      "684/684 [==============================] - 0s 26us/step - loss: 0.1059 - accuracy: 0.9766 - val_loss: 0.0582 - val_accuracy: 0.9826\n",
      "Epoch 37/100\n",
      "684/684 [==============================] - 0s 23us/step - loss: 0.1003 - accuracy: 0.9737 - val_loss: 0.0788 - val_accuracy: 0.9767\n",
      "Epoch 38/100\n",
      "684/684 [==============================] - 0s 25us/step - loss: 0.1178 - accuracy: 0.9635 - val_loss: 0.0154 - val_accuracy: 0.9942\n",
      "Epoch 39/100\n",
      "684/684 [==============================] - 0s 22us/step - loss: 0.1289 - accuracy: 0.9678 - val_loss: 0.0782 - val_accuracy: 0.9767\n",
      "Epoch 40/100\n",
      "684/684 [==============================] - 0s 23us/step - loss: 0.1208 - accuracy: 0.9649 - val_loss: 0.0106 - val_accuracy: 1.0000\n",
      "Epoch 41/100\n",
      "684/684 [==============================] - 0s 26us/step - loss: 0.0993 - accuracy: 0.9693 - val_loss: 0.0537 - val_accuracy: 0.9826\n",
      "Epoch 42/100\n",
      "684/684 [==============================] - 0s 23us/step - loss: 0.1024 - accuracy: 0.9649 - val_loss: 0.0183 - val_accuracy: 0.9942\n",
      "Epoch 43/100\n",
      "684/684 [==============================] - 0s 25us/step - loss: 0.0989 - accuracy: 0.9693 - val_loss: 0.0449 - val_accuracy: 0.9826\n",
      "Epoch 44/100\n",
      "684/684 [==============================] - 0s 22us/step - loss: 0.0971 - accuracy: 0.9678 - val_loss: 0.0294 - val_accuracy: 0.9884\n",
      "Epoch 45/100\n",
      "684/684 [==============================] - 0s 25us/step - loss: 0.0909 - accuracy: 0.9795 - val_loss: 0.0197 - val_accuracy: 0.9942\n",
      "Epoch 46/100\n",
      "684/684 [==============================] - 0s 24us/step - loss: 0.0931 - accuracy: 0.9751 - val_loss: 0.0183 - val_accuracy: 0.9942\n",
      "Epoch 47/100\n",
      "684/684 [==============================] - 0s 24us/step - loss: 0.1049 - accuracy: 0.9635 - val_loss: 0.0276 - val_accuracy: 0.9884\n",
      "Epoch 48/100\n",
      "684/684 [==============================] - 0s 25us/step - loss: 0.0981 - accuracy: 0.9737 - val_loss: 0.0678 - val_accuracy: 0.9767\n",
      "Epoch 49/100\n",
      "684/684 [==============================] - 0s 24us/step - loss: 0.1025 - accuracy: 0.9693 - val_loss: 0.0186 - val_accuracy: 0.9942\n",
      "Epoch 50/100\n",
      "684/684 [==============================] - 0s 24us/step - loss: 0.1025 - accuracy: 0.9664 - val_loss: 0.0788 - val_accuracy: 0.9767\n",
      "Epoch 51/100\n",
      "684/684 [==============================] - 0s 22us/step - loss: 0.1041 - accuracy: 0.9678 - val_loss: 0.0163 - val_accuracy: 0.9942\n",
      "Epoch 52/100\n",
      "684/684 [==============================] - 0s 25us/step - loss: 0.0853 - accuracy: 0.9693 - val_loss: 0.0369 - val_accuracy: 0.9826\n",
      "Epoch 53/100\n",
      "684/684 [==============================] - 0s 22us/step - loss: 0.0840 - accuracy: 0.9751 - val_loss: 0.0158 - val_accuracy: 0.9942\n",
      "Epoch 54/100\n",
      "684/684 [==============================] - 0s 22us/step - loss: 0.0961 - accuracy: 0.9722 - val_loss: 0.0355 - val_accuracy: 0.9826\n",
      "Epoch 55/100\n",
      "684/684 [==============================] - 0s 22us/step - loss: 0.0868 - accuracy: 0.9781 - val_loss: 0.0298 - val_accuracy: 0.9826\n",
      "Epoch 56/100\n",
      "684/684 [==============================] - 0s 23us/step - loss: 0.0817 - accuracy: 0.9722 - val_loss: 0.0251 - val_accuracy: 0.9884\n",
      "Epoch 57/100\n",
      "684/684 [==============================] - 0s 24us/step - loss: 0.0873 - accuracy: 0.9722 - val_loss: 0.0350 - val_accuracy: 0.9826\n",
      "Epoch 58/100\n",
      "684/684 [==============================] - 0s 24us/step - loss: 0.0783 - accuracy: 0.9737 - val_loss: 0.0494 - val_accuracy: 0.9767\n",
      "Epoch 59/100\n",
      "684/684 [==============================] - 0s 22us/step - loss: 0.0921 - accuracy: 0.9693 - val_loss: 0.0126 - val_accuracy: 0.9942\n",
      "Epoch 60/100\n",
      "684/684 [==============================] - 0s 23us/step - loss: 0.0886 - accuracy: 0.9766 - val_loss: 0.0691 - val_accuracy: 0.9767\n",
      "Epoch 61/100\n",
      "684/684 [==============================] - 0s 23us/step - loss: 0.1005 - accuracy: 0.9678 - val_loss: 0.0128 - val_accuracy: 1.0000\n",
      "Epoch 62/100\n",
      "684/684 [==============================] - 0s 24us/step - loss: 0.0844 - accuracy: 0.9795 - val_loss: 0.0240 - val_accuracy: 0.9884\n",
      "Epoch 63/100\n",
      "684/684 [==============================] - 0s 22us/step - loss: 0.0841 - accuracy: 0.9708 - val_loss: 0.0172 - val_accuracy: 0.9942\n",
      "Epoch 64/100\n",
      "684/684 [==============================] - 0s 24us/step - loss: 0.0808 - accuracy: 0.9766 - val_loss: 0.0307 - val_accuracy: 0.9826\n",
      "Epoch 65/100\n",
      "684/684 [==============================] - 0s 24us/step - loss: 0.0785 - accuracy: 0.9737 - val_loss: 0.0133 - val_accuracy: 0.9942\n",
      "Epoch 66/100\n",
      "684/684 [==============================] - 0s 25us/step - loss: 0.1059 - accuracy: 0.9620 - val_loss: 0.1098 - val_accuracy: 0.9767\n",
      "Epoch 67/100\n",
      "684/684 [==============================] - 0s 24us/step - loss: 0.0926 - accuracy: 0.9678 - val_loss: 0.0298 - val_accuracy: 0.9826\n",
      "Epoch 68/100\n",
      "684/684 [==============================] - 0s 22us/step - loss: 0.0778 - accuracy: 0.9737 - val_loss: 0.0390 - val_accuracy: 0.9826\n",
      "Epoch 69/100\n",
      "684/684 [==============================] - 0s 22us/step - loss: 0.0774 - accuracy: 0.9751 - val_loss: 0.0433 - val_accuracy: 0.9767\n",
      "Epoch 70/100\n",
      "684/684 [==============================] - 0s 22us/step - loss: 0.0760 - accuracy: 0.9825 - val_loss: 0.0341 - val_accuracy: 0.9826\n",
      "Epoch 71/100\n",
      "684/684 [==============================] - 0s 25us/step - loss: 0.0760 - accuracy: 0.9751 - val_loss: 0.0217 - val_accuracy: 0.9884\n",
      "Epoch 72/100\n",
      "684/684 [==============================] - 0s 23us/step - loss: 0.0765 - accuracy: 0.9810 - val_loss: 0.0714 - val_accuracy: 0.9767\n",
      "Epoch 73/100\n",
      "684/684 [==============================] - 0s 22us/step - loss: 0.0966 - accuracy: 0.9649 - val_loss: 0.0049 - val_accuracy: 1.0000\n",
      "Epoch 74/100\n",
      "684/684 [==============================] - 0s 22us/step - loss: 0.1289 - accuracy: 0.9532 - val_loss: 0.0092 - val_accuracy: 1.0000\n",
      "Epoch 75/100\n",
      "684/684 [==============================] - 0s 24us/step - loss: 0.0903 - accuracy: 0.9722 - val_loss: 0.0304 - val_accuracy: 0.9826\n",
      "Epoch 76/100\n",
      "684/684 [==============================] - 0s 24us/step - loss: 0.0743 - accuracy: 0.9766 - val_loss: 0.0386 - val_accuracy: 0.9826\n",
      "Epoch 77/100\n",
      "684/684 [==============================] - 0s 24us/step - loss: 0.0805 - accuracy: 0.9678 - val_loss: 0.0496 - val_accuracy: 0.9767\n",
      "Epoch 78/100\n",
      "684/684 [==============================] - 0s 23us/step - loss: 0.0863 - accuracy: 0.9678 - val_loss: 0.0404 - val_accuracy: 0.9826\n",
      "Epoch 79/100\n",
      "684/684 [==============================] - 0s 26us/step - loss: 0.0704 - accuracy: 0.9766 - val_loss: 0.0305 - val_accuracy: 0.9826\n",
      "Epoch 80/100\n",
      "684/684 [==============================] - 0s 23us/step - loss: 0.0780 - accuracy: 0.9751 - val_loss: 0.0151 - val_accuracy: 0.9942\n",
      "Epoch 81/100\n",
      "684/684 [==============================] - 0s 25us/step - loss: 0.0725 - accuracy: 0.9781 - val_loss: 0.0239 - val_accuracy: 0.9884\n",
      "Epoch 82/100\n",
      "684/684 [==============================] - 0s 22us/step - loss: 0.0757 - accuracy: 0.9868 - val_loss: 0.0094 - val_accuracy: 1.0000\n",
      "Epoch 83/100\n",
      "684/684 [==============================] - 0s 31us/step - loss: 0.0766 - accuracy: 0.9810 - val_loss: 0.0296 - val_accuracy: 0.9826\n",
      "Epoch 84/100\n",
      "684/684 [==============================] - 0s 23us/step - loss: 0.0776 - accuracy: 0.9795 - val_loss: 0.0771 - val_accuracy: 0.9767\n",
      "Epoch 85/100\n",
      "684/684 [==============================] - 0s 24us/step - loss: 0.0839 - accuracy: 0.9722 - val_loss: 0.0169 - val_accuracy: 0.9942\n",
      "Epoch 86/100\n",
      "684/684 [==============================] - 0s 24us/step - loss: 0.1039 - accuracy: 0.9678 - val_loss: 0.0453 - val_accuracy: 0.9767\n",
      "Epoch 87/100\n",
      "684/684 [==============================] - 0s 31us/step - loss: 0.0775 - accuracy: 0.9722 - val_loss: 0.0080 - val_accuracy: 1.0000\n",
      "Epoch 88/100\n",
      "684/684 [==============================] - 0s 25us/step - loss: 0.0745 - accuracy: 0.9751 - val_loss: 0.0414 - val_accuracy: 0.9767\n",
      "Epoch 89/100\n",
      "684/684 [==============================] - 0s 23us/step - loss: 0.0763 - accuracy: 0.9737 - val_loss: 0.0125 - val_accuracy: 1.0000\n",
      "Epoch 90/100\n",
      "684/684 [==============================] - 0s 23us/step - loss: 0.0723 - accuracy: 0.9751 - val_loss: 0.0304 - val_accuracy: 0.9826\n",
      "Epoch 91/100\n",
      "684/684 [==============================] - 0s 21us/step - loss: 0.0679 - accuracy: 0.9781 - val_loss: 0.0222 - val_accuracy: 0.9884\n",
      "Epoch 92/100\n",
      "684/684 [==============================] - 0s 24us/step - loss: 0.0798 - accuracy: 0.9708 - val_loss: 0.0314 - val_accuracy: 0.9826\n",
      "Epoch 93/100\n",
      "684/684 [==============================] - 0s 24us/step - loss: 0.1107 - accuracy: 0.9561 - val_loss: 0.0255 - val_accuracy: 0.9826\n",
      "Epoch 94/100\n",
      "684/684 [==============================] - 0s 23us/step - loss: 0.0858 - accuracy: 0.9635 - val_loss: 0.0098 - val_accuracy: 1.0000\n",
      "Epoch 95/100\n",
      "684/684 [==============================] - 0s 25us/step - loss: 0.0847 - accuracy: 0.9751 - val_loss: 0.0468 - val_accuracy: 0.9767\n",
      "Epoch 96/100\n",
      "684/684 [==============================] - 0s 22us/step - loss: 0.0735 - accuracy: 0.9708 - val_loss: 0.0127 - val_accuracy: 0.9942\n",
      "Epoch 97/100\n",
      "684/684 [==============================] - 0s 23us/step - loss: 0.0885 - accuracy: 0.9678 - val_loss: 0.0611 - val_accuracy: 0.9767\n",
      "Epoch 98/100\n",
      "684/684 [==============================] - 0s 24us/step - loss: 0.0741 - accuracy: 0.9781 - val_loss: 0.0121 - val_accuracy: 0.9942\n",
      "Epoch 99/100\n",
      "684/684 [==============================] - 0s 23us/step - loss: 0.0781 - accuracy: 0.9722 - val_loss: 0.0322 - val_accuracy: 0.9826\n",
      "Epoch 100/100\n",
      "684/684 [==============================] - 0s 22us/step - loss: 0.0809 - accuracy: 0.9766 - val_loss: 0.0356 - val_accuracy: 0.9826\n"
     ]
    }
   ],
   "source": [
    "h = model.fit(x=dataPlayers, y=pos_cat, batch_size=50, validation_split = 0.2, verbose=1, epochs=100)"
   ]
  },
  {
   "cell_type": "code",
   "execution_count": 88,
   "metadata": {},
   "outputs": [
    {
     "data": {
      "text/plain": [
       "Text(0.5, 1.0, 'accuracy')"
      ]
     },
     "execution_count": 88,
     "metadata": {},
     "output_type": "execute_result"
    },
    {
     "data": {
      "image/png": "[encoded data removed]",
      "text/plain": [
       "<Figure size 432x288 with 1 Axes>"
      ]
     },
     "metadata": {
      "needs_background": "light"
     },
     "output_type": "display_data"
    }
   ],
   "source": [
    "plt.plot(h.history['accuracy'])\n",
    "plt.xlabel('epoch')\n",
    "plt.legend(['accuracy'])\n",
    "plt.title('accuracy')"
   ]
  },
  {
   "cell_type": "code",
   "execution_count": 89,
   "metadata": {},
   "outputs": [
    {
     "data": {
      "text/plain": [
       "Text(0.5, 1.0, 'loss')"
      ]
     },
     "execution_count": 89,
     "metadata": {},
     "output_type": "execute_result"
    },
    {
     "data": {
      "image/png": "[encoded data removed]",
      "text/plain": [
       "<Figure size 432x288 with 1 Axes>"
      ]
     },
     "metadata": {
      "needs_background": "light"
     },
     "output_type": "display_data"
    }
   ],
   "source": [
    "plt.plot(h.history['loss'])\n",
    "plt.xlabel('epoch')\n",
    "plt.legend(['loss'])\n",
    "plt.title('loss')"
   ]
  },
  {
   "cell_type": "code",
   "execution_count": 90,
   "metadata": {},
   "outputs": [
    {
     "name": "stdout",
     "output_type": "stream",
     "text": [
      "Predicted Class: [0 0 0 0 0 0 0 0 0 0 0 0 0 0 0 0 0 0 0 0 0 0 0 1 0 0 1 0 0 0 0 0 0 0 0 0 0\n",
      " 0 0 0 0 0 0 0 0 0 0 0 0 0 0 0 0 0 0 0 0 0 0 0 0 0 0 0 0 0 0 0 0 0 0 0 0 0\n",
      " 0 0 0 0 0 0 0 0 0 0 0 0 0 0 0 0 0 0 0 0 0 0 0 0 0 0 0 0 0 0 0 0 0 0 0 0 0\n",
      " 0 0 0 0 0 0 0 0 0 0 0 0 0 0 0 0 0 0 0 0 0 0 0 0 0 0 0 0 0 0 0 0 0 0 0 0 0\n",
      " 0 1 0 0 0 0 0 0 0 0 0 0 0 0 0 0 0 1 0 0 0 0 0 0 0 0 0 0 0 0 0 0 0 0 1 0 0\n",
      " 0 0 0 0 0 0 0 0 0 0 0 0 0 0 0 0 0 0 0 0 0 0 0 0 0 0 0 0 0 0 0 0 0 0 0 0 0\n",
      " 0 0 0 1 1 1 1 1 1 1 1 1 1 1 1 1 1 1 1 1 1 1 1 1 1 1 1 1 1 1 1 1 1 1 1 1 1\n",
      " 1 1 1 1 1 1 1 1 1 1 1 1 1 0 1 1 1 1 1 1 1 1 1 1 1 1 1 1 1 1 1 1 1 1 1 1 1\n",
      " 1 1 1 1 1 1 1 1 1 1 1 1 1 1 1 1 1 1 1 1 1 1 1 1 1 1 0 1 1 1 1 0 0 1 1 1 1\n",
      " 1 1 1 1 1 1 1 1 1 1 1 1 1 1 1 1 1 1 1 1 1 1 1 1 1 1 1 1 1 1 1 1 1 1 1 1 1\n",
      " 1 1 0 1 1 1 1 1 1 1 1 1 1 1 1 1 1 1 1 1 1 1 1 1 1 1 1 1 1 1 1 1 1 1 1 1 1\n",
      " 1 1 1 1 1 1 1 1 1 1 1 1 1 1 0 1 1 1 1 0 1 1 1 1 1 1 1 1 1 1 1 1 1 1 1 1 1\n",
      " 1 1 1 1 1 1 1 1 1 1 1 1 1 1 1 1 1 1 1 1 1 1 1 1 1 1 1 1 1 1 1 1 1 1 1 1 1\n",
      " 1 1 1 1 1 1 1 1 1 1 1 1 1 1 1 1 1 1 1 1 1 1 1 1 1 1 1 1 1 1 1 0 1 1 1 1 1\n",
      " 1 1 1 1 1 1 1 1 1 1 1 1 1 1 1 1 1 1 1 1 1 1 1 1 1 1 1 1 1 1 1 1 1 1 1 1 1\n",
      " 1 1 1 1 1 1 1 1 1 1 1 1 1 1 1 1 1 1 1 1 1 1 1 1 1 1 1 1 1 1 1 1 1 1 1 1 1\n",
      " 1 1 1 1 1 1 1 1 1 1 1 1 1 1 1 1 1 1 1 1 1 1 1 1 1 1 1 1 1 1 1 1 0 1 1 1 1\n",
      " 1 1 1 1 1 1 1 1 1 1 1 1 1 1 0 1 1 1 1 1 1 1 1 1 1 1 1 1 1 1 1 1 1 1 1 1 1\n",
      " 1 1 1 1 1 1 1 1 1 1 1 1 1 1 1 1 1 1 1 1 1 1 1 1 1 1 1 1 1 1 1 1 1 1 1 1 1\n",
      " 1 1 1 1 1 0 1 0 1 1 1 1 1 1 1 1 1 1 1 1 1 1 1 1 1 1 1 1 1 1 1 1 1 1 1 1 1\n",
      " 1 1 1 1 1 1 1 1 1 1 1 1 1 1 1 1 1 1 1 1 1 0 1 1 1 1 1 1 1 1 1 1 1 1 1 1 1\n",
      " 1 1 1 1 1 1 1 1 1 1 1 1 1 1 1 1 1 1 1 1 1 1 1 1 1 1 1 1 1 1 1 1 1 1 1 1 1\n",
      " 1 1 1 1 1 1 1 1 1 1 1 1 1 1 1 1 1 1 1 1 1 1 1 1 1 1 1 1 1 1 1 1 1 1 1 1 1\n",
      " 1 1 1 1 1]\n",
      "Actual Class: [0 0 0 0 0 0 0 0 0 0 0 0 0 0 0 0 0 0 0 0 0 0 0 0 0 0 0 0 0 0 0 0 0 0 0 0 0\n",
      " 0 0 0 0 0 0 0 0 0 0 0 0 0 0 0 0 0 0 0 0 0 0 0 0 0 0 0 0 0 0 0 0 0 0 0 0 0\n",
      " 0 0 0 0 0 0 0 0 0 0 0 0 0 0 0 0 0 0 0 0 0 0 0 0 0 0 0 0 0 0 0 0 0 0 0 0 0\n",
      " 0 0 0 0 0 0 0 0 0 0 0 0 0 0 0 0 0 0 0 0 0 0 0 0 0 0 0 0 0 0 0 0 0 0 0 0 0\n",
      " 0 0 0 0 0 0 0 0 0 0 0 0 0 0 0 0 0 0 0 0 0 0 0 0 0 0 0 0 0 0 0 0 0 0 0 0 0\n",
      " 0 0 0 0 0 0 0 0 0 0 0 0 0 0 0 0 0 0 0 0 0 0 0 0 0 0 0 0 0 0 0 0 0 0 0 0 0\n",
      " 0 0 0 1 1 1 1 1 1 1 1 1 1 1 1 1 1 1 1 1 1 1 1 1 1 1 1 1 1 1 1 1 1 1 1 1 1\n",
      " 1 1 1 1 1 1 1 1 1 1 1 1 1 1 1 1 1 1 1 1 1 1 1 1 1 1 1 1 1 1 1 1 1 1 1 1 1\n",
      " 1 1 1 1 1 1 1 1 1 1 1 1 1 1 1 1 1 1 1 1 1 1 1 1 1 1 1 1 1 1 1 1 1 1 1 1 1\n",
      " 1 1 1 1 1 1 1 1 1 1 1 1 1 1 1 1 1 1 1 1 1 1 1 1 1 1 1 1 1 1 1 1 1 1 1 1 1\n",
      " 1 1 1 1 1 1 1 1 1 1 1 1 1 1 1 1 1 1 1 1 1 1 1 1 1 1 1 1 1 1 1 1 1 1 1 1 1\n",
      " 1 1 1 1 1 1 1 1 1 1 1 1 1 1 1 1 1 1 1 1 1 1 1 1 1 1 1 1 1 1 1 1 1 1 1 1 1\n",
      " 1 1 1 1 1 1 1 1 1 1 1 1 1 1 1 1 1 1 1 1 1 1 1 1 1 1 1 1 1 1 1 1 1 1 1 1 1\n",
      " 1 1 1 1 1 1 1 1 1 1 1 1 1 1 1 1 1 1 1 1 1 1 1 1 1 1 1 1 1 1 1 1 1 1 1 1 1\n",
      " 1 1 1 1 1 1 1 1 1 1 1 1 1 1 1 1 1 1 1 1 1 1 1 1 1 1 1 1 1 1 1 1 1 1 1 1 1\n",
      " 1 1 1 1 1 1 1 1 1 1 1 1 1 1 1 1 1 1 1 1 1 1 1 1 1 1 1 1 1 1 1 1 1 1 1 1 1\n",
      " 1 1 1 1 1 1 1 1 1 1 1 1 1 1 1 1 1 1 1 1 1 1 1 1 1 1 1 1 1 1 1 1 1 1 1 1 1\n",
      " 1 1 1 1 1 1 1 1 1 1 1 1 1 1 1 1 1 1 1 1 1 1 1 1 1 1 1 1 1 1 1 1 1 1 1 1 1\n",
      " 1 1 1 1 1 1 1 1 1 1 1 1 1 1 1 1 1 1 1 1 1 1 1 1 1 1 1 1 1 1 1 1 1 1 1 1 1\n",
      " 1 1 1 1 1 1 1 1 1 1 1 1 1 1 1 1 1 1 1 1 1 1 1 1 1 1 1 1 1 1 1 1 1 1 1 1 1\n",
      " 1 1 1 1 1 1 1 1 1 1 1 1 1 1 1 1 1 1 1 1 1 1 1 1 1 1 1 1 1 1 1 1 1 1 1 1 1\n",
      " 1 1 1 1 1 1 1 1 1 1 1 1 1 1 1 1 1 1 1 1 1 1 1 1 1 1 1 1 1 1 1 1 1 1 1 1 1\n",
      " 1 1 1 1 1 1 1 1 1 1 1 1 1 1 1 1 1 1 1 1 1 1 1 1 1 1 1 1 1 1 1 1 1 1 1 1 1\n",
      " 1 1 1 1 1]\n"
     ]
    }
   ],
   "source": [
    "point = np.array(dataPlayers)\n",
    "\n",
    "# point = np.array([[200, 73, 10, 4.5, 20]])\n",
    "\n",
    "prediction = model.predict_classes(point)\n",
    "print(\"Predicted Class:\", prediction)\n",
    "print(\"Actual Class:\", pos_index)"
   ]
  },
  {
   "cell_type": "code",
   "execution_count": null,
   "metadata": {},
   "outputs": [],
   "source": []
  }
 ],
 "metadata": {
  "kernelspec": {
   "display_name": "Python 3",
   "language": "python",
   "name": "python3"
  },
  "language_info": {
   "codemirror_mode": {
    "name": "ipython",
    "version": 3
   },
   "file_extension": ".py",
   "mimetype": "text/x-python",
   "name": "python",
   "nbconvert_exporter": "python",
   "pygments_lexer": "ipython3",
   "version": "3.7.6"
  }
 },
 "nbformat": 4,
 "nbformat_minor": 4
}
